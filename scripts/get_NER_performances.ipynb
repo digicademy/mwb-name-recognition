{
 "cells": [
  {
   "cell_type": "code",
   "execution_count": 1,
   "id": "unexpected-spine",
   "metadata": {},
   "outputs": [],
   "source": [
    "import ast\n",
    "import pandas as pd\n",
    "\n",
    "from itertools import chain\n",
    "\n",
    "from transformers import pipeline\n",
    "\n",
    "from sklearn.metrics import f1_score, accuracy_score, precision_score, recall_score"
   ]
  },
  {
   "cell_type": "markdown",
   "id": "outer-directory",
   "metadata": {},
   "source": [
    "# Load Test Dataset"
   ]
  },
  {
   "cell_type": "code",
   "execution_count": 2,
   "id": "conscious-religion",
   "metadata": {},
   "outputs": [
    {
     "data": {
      "text/html": [
       "<div>\n",
       "<style scoped>\n",
       "    .dataframe tbody tr th:only-of-type {\n",
       "        vertical-align: middle;\n",
       "    }\n",
       "\n",
       "    .dataframe tbody tr th {\n",
       "        vertical-align: top;\n",
       "    }\n",
       "\n",
       "    .dataframe thead th {\n",
       "        text-align: right;\n",
       "    }\n",
       "</style>\n",
       "<table border=\"1\" class=\"dataframe\">\n",
       "  <thead>\n",
       "    <tr style=\"text-align: right;\">\n",
       "      <th></th>\n",
       "      <th>tokens</th>\n",
       "      <th>labels</th>\n",
       "    </tr>\n",
       "  </thead>\n",
       "  <tbody>\n",
       "    <tr>\n",
       "      <th>0</th>\n",
       "      <td>[sîn, ungevüegez, rîs, in, der, hende, als, ei...</td>\n",
       "      <td>[O, O, O, O, O, O, O, O, O, O, O, O, O, O, O, ...</td>\n",
       "    </tr>\n",
       "    <tr>\n",
       "      <th>1</th>\n",
       "      <td>[hiez, daz, aller, valsch, an, im, verswant,, ...</td>\n",
       "      <td>[O, O, O, O, O, O, O, O, O, O, B, O, O, O, O, ...</td>\n",
       "    </tr>\n",
       "    <tr>\n",
       "      <th>2</th>\n",
       "      <td>[het, aldâ, genomn, der, stolze, küene, Wâleis...</td>\n",
       "      <td>[O, O, O, O, O, O, B, B, O, B, O, B, B, B, O, ...</td>\n",
       "    </tr>\n",
       "    <tr>\n",
       "      <th>3</th>\n",
       "      <td>[erslagn., nu, vergebt, im, sîne, schulde, dur...</td>\n",
       "      <td>[O, O, O, O, O, O, O, O, O, O, O, O, O, O, O, ...</td>\n",
       "    </tr>\n",
       "    <tr>\n",
       "      <th>4</th>\n",
       "      <td>[umbe, begunder, gâhen,, des, küneges, vanen, ...</td>\n",
       "      <td>[O, O, O, O, O, O, O, O, O, O, B, O, O, O, O, ...</td>\n",
       "    </tr>\n",
       "    <tr>\n",
       "      <th>...</th>\n",
       "      <td>...</td>\n",
       "      <td>...</td>\n",
       "    </tr>\n",
       "    <tr>\n",
       "      <th>595</th>\n",
       "      <td>[guoten, ritter, zimet,, swenn, er, den, schil...</td>\n",
       "      <td>[O, O, O, O, O, O, O, O, O, O, O, O, O, O, O, ...</td>\n",
       "    </tr>\n",
       "    <tr>\n",
       "      <th>596</th>\n",
       "      <td>[der, brust, bewart,, so, ist, werder, prîs, d...</td>\n",
       "      <td>[O, O, O, O, O, O, O, O, O, O, O, O, O, O, O, ...</td>\n",
       "    </tr>\n",
       "    <tr>\n",
       "      <th>597</th>\n",
       "      <td>[ein, herre, genant, alsus,, der, künec, Iels,...</td>\n",
       "      <td>[O, O, O, O, O, O, B, O, B, O, B, O, O, B, B, ...</td>\n",
       "    </tr>\n",
       "    <tr>\n",
       "      <th>598</th>\n",
       "      <td>[vor, im, her, gesant,, sît, ichz, lebende, im...</td>\n",
       "      <td>[O, O, O, O, O, O, O, O, O, O, O, O, O, O, O, ...</td>\n",
       "    </tr>\n",
       "    <tr>\n",
       "      <th>599</th>\n",
       "      <td>[lêret, ir, mûze, alsus, volrecken,, nâch, den...</td>\n",
       "      <td>[O, O, O, O, O, O, O, O, O, O, O, O, O, O, O, ...</td>\n",
       "    </tr>\n",
       "  </tbody>\n",
       "</table>\n",
       "<p>600 rows × 2 columns</p>\n",
       "</div>"
      ],
      "text/plain": [
       "                                                tokens  \\\n",
       "0    [sîn, ungevüegez, rîs, in, der, hende, als, ei...   \n",
       "1    [hiez, daz, aller, valsch, an, im, verswant,, ...   \n",
       "2    [het, aldâ, genomn, der, stolze, küene, Wâleis...   \n",
       "3    [erslagn., nu, vergebt, im, sîne, schulde, dur...   \n",
       "4    [umbe, begunder, gâhen,, des, küneges, vanen, ...   \n",
       "..                                                 ...   \n",
       "595  [guoten, ritter, zimet,, swenn, er, den, schil...   \n",
       "596  [der, brust, bewart,, so, ist, werder, prîs, d...   \n",
       "597  [ein, herre, genant, alsus,, der, künec, Iels,...   \n",
       "598  [vor, im, her, gesant,, sît, ichz, lebende, im...   \n",
       "599  [lêret, ir, mûze, alsus, volrecken,, nâch, den...   \n",
       "\n",
       "                                                labels  \n",
       "0    [O, O, O, O, O, O, O, O, O, O, O, O, O, O, O, ...  \n",
       "1    [O, O, O, O, O, O, O, O, O, O, B, O, O, O, O, ...  \n",
       "2    [O, O, O, O, O, O, B, B, O, B, O, B, B, B, O, ...  \n",
       "3    [O, O, O, O, O, O, O, O, O, O, O, O, O, O, O, ...  \n",
       "4    [O, O, O, O, O, O, O, O, O, O, B, O, O, O, O, ...  \n",
       "..                                                 ...  \n",
       "595  [O, O, O, O, O, O, O, O, O, O, O, O, O, O, O, ...  \n",
       "596  [O, O, O, O, O, O, O, O, O, O, O, O, O, O, O, ...  \n",
       "597  [O, O, O, O, O, O, B, O, B, O, B, O, O, B, B, ...  \n",
       "598  [O, O, O, O, O, O, O, O, O, O, O, O, O, O, O, ...  \n",
       "599  [O, O, O, O, O, O, O, O, O, O, O, O, O, O, O, ...  \n",
       "\n",
       "[600 rows x 2 columns]"
      ]
     },
     "execution_count": 2,
     "metadata": {},
     "output_type": "execute_result"
    }
   ],
   "source": [
    "data_path = \"../data/fine-tuning/\"\n",
    "test_df = pd.read_csv(data_path + \"mwb-texts_NER_test.tsv\", sep=\"\\t\", converters={0: ast.literal_eval, 1: ast.literal_eval})\n",
    "test_df"
   ]
  },
  {
   "cell_type": "code",
   "execution_count": 3,
   "id": "naked-smith",
   "metadata": {},
   "outputs": [],
   "source": [
    "y_true = list(test_df[\"labels\"].explode())"
   ]
  },
  {
   "cell_type": "markdown",
   "id": "material-colleague",
   "metadata": {},
   "source": [
    "# Evaluate Majority Baseline"
   ]
  },
  {
   "cell_type": "code",
   "execution_count": 4,
   "id": "conservative-consensus",
   "metadata": {},
   "outputs": [
    {
     "data": {
      "text/html": [
       "<div>\n",
       "<style scoped>\n",
       "    .dataframe tbody tr th:only-of-type {\n",
       "        vertical-align: middle;\n",
       "    }\n",
       "\n",
       "    .dataframe tbody tr th {\n",
       "        vertical-align: top;\n",
       "    }\n",
       "\n",
       "    .dataframe thead th {\n",
       "        text-align: right;\n",
       "    }\n",
       "</style>\n",
       "<table border=\"1\" class=\"dataframe\">\n",
       "  <thead>\n",
       "    <tr style=\"text-align: right;\">\n",
       "      <th></th>\n",
       "      <th>tokens</th>\n",
       "      <th>labels</th>\n",
       "    </tr>\n",
       "  </thead>\n",
       "  <tbody>\n",
       "    <tr>\n",
       "      <th>0</th>\n",
       "      <td>[sîn, ungevüegez, rîs, in, der, hende, als, ei...</td>\n",
       "      <td>[O, O, O, O, O, O, O, O, O, O, O, O, O, O, O, ...</td>\n",
       "    </tr>\n",
       "    <tr>\n",
       "      <th>1</th>\n",
       "      <td>[hiez, daz, aller, valsch, an, im, verswant,, ...</td>\n",
       "      <td>[O, O, O, O, O, O, O, O, O, O, O, O, O, O, O, ...</td>\n",
       "    </tr>\n",
       "    <tr>\n",
       "      <th>2</th>\n",
       "      <td>[het, aldâ, genomn, der, stolze, küene, Wâleis...</td>\n",
       "      <td>[O, O, O, O, O, O, O, O, O, O, O, O, O, O, O, ...</td>\n",
       "    </tr>\n",
       "    <tr>\n",
       "      <th>3</th>\n",
       "      <td>[erslagn., nu, vergebt, im, sîne, schulde, dur...</td>\n",
       "      <td>[O, O, O, O, O, O, O, O, O, O, O, O, O, O, O, ...</td>\n",
       "    </tr>\n",
       "    <tr>\n",
       "      <th>4</th>\n",
       "      <td>[umbe, begunder, gâhen,, des, küneges, vanen, ...</td>\n",
       "      <td>[O, O, O, O, O, O, O, O, O, O, O, O, O, O, O, ...</td>\n",
       "    </tr>\n",
       "    <tr>\n",
       "      <th>...</th>\n",
       "      <td>...</td>\n",
       "      <td>...</td>\n",
       "    </tr>\n",
       "    <tr>\n",
       "      <th>595</th>\n",
       "      <td>[guoten, ritter, zimet,, swenn, er, den, schil...</td>\n",
       "      <td>[O, O, O, O, O, O, O, O, O, O, O, O, O, O, O, ...</td>\n",
       "    </tr>\n",
       "    <tr>\n",
       "      <th>596</th>\n",
       "      <td>[der, brust, bewart,, so, ist, werder, prîs, d...</td>\n",
       "      <td>[O, O, O, O, O, O, O, O, O, O, O, O, O, O, O, ...</td>\n",
       "    </tr>\n",
       "    <tr>\n",
       "      <th>597</th>\n",
       "      <td>[ein, herre, genant, alsus,, der, künec, Iels,...</td>\n",
       "      <td>[O, O, O, O, O, O, O, O, O, O, O, O, O, O, O, ...</td>\n",
       "    </tr>\n",
       "    <tr>\n",
       "      <th>598</th>\n",
       "      <td>[vor, im, her, gesant,, sît, ichz, lebende, im...</td>\n",
       "      <td>[O, O, O, O, O, O, O, O, O, O, O, O, O, O, O, ...</td>\n",
       "    </tr>\n",
       "    <tr>\n",
       "      <th>599</th>\n",
       "      <td>[lêret, ir, mûze, alsus, volrecken,, nâch, den...</td>\n",
       "      <td>[O, O, O, O, O, O, O, O, O, O, O, O, O, O, O, ...</td>\n",
       "    </tr>\n",
       "  </tbody>\n",
       "</table>\n",
       "<p>600 rows × 2 columns</p>\n",
       "</div>"
      ],
      "text/plain": [
       "                                                tokens  \\\n",
       "0    [sîn, ungevüegez, rîs, in, der, hende, als, ei...   \n",
       "1    [hiez, daz, aller, valsch, an, im, verswant,, ...   \n",
       "2    [het, aldâ, genomn, der, stolze, küene, Wâleis...   \n",
       "3    [erslagn., nu, vergebt, im, sîne, schulde, dur...   \n",
       "4    [umbe, begunder, gâhen,, des, küneges, vanen, ...   \n",
       "..                                                 ...   \n",
       "595  [guoten, ritter, zimet,, swenn, er, den, schil...   \n",
       "596  [der, brust, bewart,, so, ist, werder, prîs, d...   \n",
       "597  [ein, herre, genant, alsus,, der, künec, Iels,...   \n",
       "598  [vor, im, her, gesant,, sît, ichz, lebende, im...   \n",
       "599  [lêret, ir, mûze, alsus, volrecken,, nâch, den...   \n",
       "\n",
       "                                                labels  \n",
       "0    [O, O, O, O, O, O, O, O, O, O, O, O, O, O, O, ...  \n",
       "1    [O, O, O, O, O, O, O, O, O, O, O, O, O, O, O, ...  \n",
       "2    [O, O, O, O, O, O, O, O, O, O, O, O, O, O, O, ...  \n",
       "3    [O, O, O, O, O, O, O, O, O, O, O, O, O, O, O, ...  \n",
       "4    [O, O, O, O, O, O, O, O, O, O, O, O, O, O, O, ...  \n",
       "..                                                 ...  \n",
       "595  [O, O, O, O, O, O, O, O, O, O, O, O, O, O, O, ...  \n",
       "596  [O, O, O, O, O, O, O, O, O, O, O, O, O, O, O, ...  \n",
       "597  [O, O, O, O, O, O, O, O, O, O, O, O, O, O, O, ...  \n",
       "598  [O, O, O, O, O, O, O, O, O, O, O, O, O, O, O, ...  \n",
       "599  [O, O, O, O, O, O, O, O, O, O, O, O, O, O, O, ...  \n",
       "\n",
       "[600 rows x 2 columns]"
      ]
     },
     "execution_count": 4,
     "metadata": {},
     "output_type": "execute_result"
    }
   ],
   "source": [
    "majority_test_df = test_df[[\"tokens\"]].copy()\n",
    "majority_test_df[\"labels\"] = majority_test_df[\"tokens\"].apply(lambda x: [\"O\" for token in x])\n",
    "\n",
    "majority_test_df"
   ]
  },
  {
   "cell_type": "code",
   "execution_count": 5,
   "id": "biological-egyptian",
   "metadata": {},
   "outputs": [
    {
     "name": "stderr",
     "output_type": "stream",
     "text": [
      "/home/pb/Dokumente/diss/code/shap_env/lib/python3.8/site-packages/sklearn/metrics/_classification.py:1471: UndefinedMetricWarning: Precision is ill-defined and being set to 0.0 due to no predicted samples. Use `zero_division` parameter to control this behavior.\n",
      "  _warn_prf(average, modifier, msg_start, len(result))\n"
     ]
    },
    {
     "data": {
      "text/plain": [
       "{'precision': 0.0,\n",
       " 'recall': 0.0,\n",
       " 'f1_micro': 0.9297507540879505,\n",
       " 'f1_macro': 0.48179836288100036,\n",
       " 'accuracy': 0.9297507540879505}"
      ]
     },
     "execution_count": 5,
     "metadata": {},
     "output_type": "execute_result"
    }
   ],
   "source": [
    "y_majority = list(majority_test_df[\"labels\"].explode()) #list(chain(*y_majority)) # flatten list\n",
    "\n",
    "{\n",
    "    \"precision\": precision_score(y_true, y_majority, pos_label=\"B\"),\n",
    "    \"recall\": recall_score(y_true, y_majority, pos_label=\"B\"),\n",
    "    \"f1_micro\": f1_score(y_true, y_majority, average=\"micro\"),\n",
    "    \"f1_macro\": f1_score(y_true, y_majority, average=\"macro\"),\n",
    "    \"accuracy\": accuracy_score(y_true, y_majority)  \n",
    "}"
   ]
  },
  {
   "cell_type": "markdown",
   "id": "upset-america",
   "metadata": {},
   "source": [
    "# Evaluate Fine-tuned gbert"
   ]
  },
  {
   "cell_type": "code",
   "execution_count": 6,
   "id": "lesser-mileage",
   "metadata": {},
   "outputs": [],
   "source": [
    "def get_aligned_labels(tokens, y_predicted):\n",
    "    # get start/end indices\n",
    "    start_end_data = [(y[\"start\"], y[\"end\"]) for y in y_predicted]\n",
    "    \n",
    "    # build labels\n",
    "    labels = []\n",
    "    i = 0\n",
    "    start = 0\n",
    "    end = 0\n",
    "    for word in tokens:\n",
    "        end = start + len(word)\n",
    "        label = \"O\"\n",
    "        for j, entity in enumerate(start_end_data[i:]):\n",
    "            if start <= entity[0] and end >= entity[1]:\n",
    "                i += j\n",
    "                label = \"B\"\n",
    "                break\n",
    "        labels.append(label)\n",
    "        start = end + 1\n",
    "    return labels"
   ]
  },
  {
   "cell_type": "code",
   "execution_count": 7,
   "id": "published-camping",
   "metadata": {},
   "outputs": [],
   "source": [
    "model_path = \"../models/gbert-base-mwb-NER\"\n",
    "gbert = pipeline(\"token-classification\", model=model_path)"
   ]
  },
  {
   "cell_type": "code",
   "execution_count": 8,
   "id": "promising-piano",
   "metadata": {},
   "outputs": [
    {
     "data": {
      "text/html": [
       "<div>\n",
       "<style scoped>\n",
       "    .dataframe tbody tr th:only-of-type {\n",
       "        vertical-align: middle;\n",
       "    }\n",
       "\n",
       "    .dataframe tbody tr th {\n",
       "        vertical-align: top;\n",
       "    }\n",
       "\n",
       "    .dataframe thead th {\n",
       "        text-align: right;\n",
       "    }\n",
       "</style>\n",
       "<table border=\"1\" class=\"dataframe\">\n",
       "  <thead>\n",
       "    <tr style=\"text-align: right;\">\n",
       "      <th></th>\n",
       "      <th>tokens</th>\n",
       "      <th>labels</th>\n",
       "    </tr>\n",
       "  </thead>\n",
       "  <tbody>\n",
       "    <tr>\n",
       "      <th>0</th>\n",
       "      <td>[sîn, ungevüegez, rîs, in, der, hende, als, ei...</td>\n",
       "      <td>[O, O, O, O, O, O, O, O, O, O, O, O, O, O, O, ...</td>\n",
       "    </tr>\n",
       "    <tr>\n",
       "      <th>1</th>\n",
       "      <td>[hiez, daz, aller, valsch, an, im, verswant,, ...</td>\n",
       "      <td>[O, O, O, O, O, O, O, O, O, O, B, O, O, O, O, ...</td>\n",
       "    </tr>\n",
       "    <tr>\n",
       "      <th>2</th>\n",
       "      <td>[het, aldâ, genomn, der, stolze, küene, Wâleis...</td>\n",
       "      <td>[O, O, O, O, O, O, B, B, O, B, O, B, B, B, O, ...</td>\n",
       "    </tr>\n",
       "    <tr>\n",
       "      <th>3</th>\n",
       "      <td>[erslagn., nu, vergebt, im, sîne, schulde, dur...</td>\n",
       "      <td>[O, O, O, O, O, O, O, O, O, O, O, O, O, O, O, ...</td>\n",
       "    </tr>\n",
       "    <tr>\n",
       "      <th>4</th>\n",
       "      <td>[umbe, begunder, gâhen,, des, küneges, vanen, ...</td>\n",
       "      <td>[O, O, O, O, O, O, O, O, O, O, B, O, O, O, O, ...</td>\n",
       "    </tr>\n",
       "    <tr>\n",
       "      <th>...</th>\n",
       "      <td>...</td>\n",
       "      <td>...</td>\n",
       "    </tr>\n",
       "    <tr>\n",
       "      <th>595</th>\n",
       "      <td>[guoten, ritter, zimet,, swenn, er, den, schil...</td>\n",
       "      <td>[O, O, O, O, O, O, O, O, O, O, O, O, O, O, O, ...</td>\n",
       "    </tr>\n",
       "    <tr>\n",
       "      <th>596</th>\n",
       "      <td>[der, brust, bewart,, so, ist, werder, prîs, d...</td>\n",
       "      <td>[O, O, O, O, O, O, O, O, O, O, O, O, O, O, O, ...</td>\n",
       "    </tr>\n",
       "    <tr>\n",
       "      <th>597</th>\n",
       "      <td>[ein, herre, genant, alsus,, der, künec, Iels,...</td>\n",
       "      <td>[O, O, O, B, O, O, B, O, B, O, B, O, O, B, B, ...</td>\n",
       "    </tr>\n",
       "    <tr>\n",
       "      <th>598</th>\n",
       "      <td>[vor, im, her, gesant,, sît, ichz, lebende, im...</td>\n",
       "      <td>[O, O, O, O, O, O, O, O, O, O, O, O, O, O, O, ...</td>\n",
       "    </tr>\n",
       "    <tr>\n",
       "      <th>599</th>\n",
       "      <td>[lêret, ir, mûze, alsus, volrecken,, nâch, den...</td>\n",
       "      <td>[O, O, O, O, O, O, O, O, O, O, O, O, O, O, O, ...</td>\n",
       "    </tr>\n",
       "  </tbody>\n",
       "</table>\n",
       "<p>600 rows × 2 columns</p>\n",
       "</div>"
      ],
      "text/plain": [
       "                                                tokens  \\\n",
       "0    [sîn, ungevüegez, rîs, in, der, hende, als, ei...   \n",
       "1    [hiez, daz, aller, valsch, an, im, verswant,, ...   \n",
       "2    [het, aldâ, genomn, der, stolze, küene, Wâleis...   \n",
       "3    [erslagn., nu, vergebt, im, sîne, schulde, dur...   \n",
       "4    [umbe, begunder, gâhen,, des, küneges, vanen, ...   \n",
       "..                                                 ...   \n",
       "595  [guoten, ritter, zimet,, swenn, er, den, schil...   \n",
       "596  [der, brust, bewart,, so, ist, werder, prîs, d...   \n",
       "597  [ein, herre, genant, alsus,, der, künec, Iels,...   \n",
       "598  [vor, im, her, gesant,, sît, ichz, lebende, im...   \n",
       "599  [lêret, ir, mûze, alsus, volrecken,, nâch, den...   \n",
       "\n",
       "                                                labels  \n",
       "0    [O, O, O, O, O, O, O, O, O, O, O, O, O, O, O, ...  \n",
       "1    [O, O, O, O, O, O, O, O, O, O, B, O, O, O, O, ...  \n",
       "2    [O, O, O, O, O, O, B, B, O, B, O, B, B, B, O, ...  \n",
       "3    [O, O, O, O, O, O, O, O, O, O, O, O, O, O, O, ...  \n",
       "4    [O, O, O, O, O, O, O, O, O, O, B, O, O, O, O, ...  \n",
       "..                                                 ...  \n",
       "595  [O, O, O, O, O, O, O, O, O, O, O, O, O, O, O, ...  \n",
       "596  [O, O, O, O, O, O, O, O, O, O, O, O, O, O, O, ...  \n",
       "597  [O, O, O, B, O, O, B, O, B, O, B, O, O, B, B, ...  \n",
       "598  [O, O, O, O, O, O, O, O, O, O, O, O, O, O, O, ...  \n",
       "599  [O, O, O, O, O, O, O, O, O, O, O, O, O, O, O, ...  \n",
       "\n",
       "[600 rows x 2 columns]"
      ]
     },
     "execution_count": 8,
     "metadata": {},
     "output_type": "execute_result"
    }
   ],
   "source": [
    "#finetuned_gbert_test_df = test_df[[\"tokens\"]].copy()\n",
    "#finetuned_gbert_test_df[\"labels\"] = finetuned_gbert_test_df[\"tokens\"].apply(lambda x: get_aligned_labels(x, gbert(\" \".join(x), aggregation_strategy=\"first\")))\n",
    "\n",
    "finetuned_gbert_test_df = pd.read_csv(\"../data/predictions/mwb-texts_NER_test_gbert.tsv\", sep=\"\\t\", converters={0: ast.literal_eval, 1: ast.literal_eval})\n",
    "finetuned_gbert_test_df"
   ]
  },
  {
   "cell_type": "code",
   "execution_count": 9,
   "id": "numeric-ethernet",
   "metadata": {},
   "outputs": [],
   "source": [
    "#finetuned_gbert_test_df.to_csv(\"../data/predictions/mwb-texts_NER_test_gbert.tsv\", sep=\"\\t\", index=False)"
   ]
  },
  {
   "cell_type": "code",
   "execution_count": 10,
   "id": "arctic-oracle",
   "metadata": {},
   "outputs": [
    {
     "data": {
      "text/plain": [
       "{'precision': 0.9559819413092551,\n",
       " 'recall': 0.9570621468926553,\n",
       " 'f1_micro': 0.9938879187172567,\n",
       " 'f1_macro': 0.9766173263421651,\n",
       " 'accuracy': 0.9938879187172567}"
      ]
     },
     "execution_count": 10,
     "metadata": {},
     "output_type": "execute_result"
    }
   ],
   "source": [
    "y_gbert = list(finetuned_gbert_test_df[\"labels\"].explode()) #list(chain(*y_gbert)) # flatten list\n",
    "\n",
    "{\n",
    "    \"precision\": precision_score(y_true, y_gbert, pos_label=\"B\"),\n",
    "    \"recall\": recall_score(y_true, y_gbert, pos_label=\"B\"),\n",
    "    \"f1_micro\": f1_score(y_true, y_gbert, average=\"micro\"),\n",
    "    \"f1_macro\": f1_score(y_true, y_gbert, average=\"macro\"),\n",
    "    \"accuracy\": accuracy_score(y_true, y_gbert)  \n",
    "}"
   ]
  },
  {
   "cell_type": "markdown",
   "id": "working-community",
   "metadata": {},
   "source": [
    "# Evaluate Fine-tuned christinbeck/GHisBERT"
   ]
  },
  {
   "cell_type": "code",
   "execution_count": 11,
   "id": "healthy-effects",
   "metadata": {
    "scrolled": true
   },
   "outputs": [],
   "source": [
    "model_path = \"../models/ghisbert-mwb-NER\"\n",
    "ghisbert = pipeline(\"token-classification\", model=model_path)"
   ]
  },
  {
   "cell_type": "code",
   "execution_count": 12,
   "id": "median-permission",
   "metadata": {},
   "outputs": [
    {
     "data": {
      "text/html": [
       "<div>\n",
       "<style scoped>\n",
       "    .dataframe tbody tr th:only-of-type {\n",
       "        vertical-align: middle;\n",
       "    }\n",
       "\n",
       "    .dataframe tbody tr th {\n",
       "        vertical-align: top;\n",
       "    }\n",
       "\n",
       "    .dataframe thead th {\n",
       "        text-align: right;\n",
       "    }\n",
       "</style>\n",
       "<table border=\"1\" class=\"dataframe\">\n",
       "  <thead>\n",
       "    <tr style=\"text-align: right;\">\n",
       "      <th></th>\n",
       "      <th>tokens</th>\n",
       "      <th>labels</th>\n",
       "    </tr>\n",
       "  </thead>\n",
       "  <tbody>\n",
       "    <tr>\n",
       "      <th>0</th>\n",
       "      <td>[sîn, ungevüegez, rîs, in, der, hende, als, ei...</td>\n",
       "      <td>[O, O, O, O, O, O, O, O, O, O, O, O, B, O, O, ...</td>\n",
       "    </tr>\n",
       "    <tr>\n",
       "      <th>1</th>\n",
       "      <td>[hiez, daz, aller, valsch, an, im, verswant,, ...</td>\n",
       "      <td>[O, O, O, O, O, O, O, O, O, O, B, O, O, O, O, ...</td>\n",
       "    </tr>\n",
       "    <tr>\n",
       "      <th>2</th>\n",
       "      <td>[het, aldâ, genomn, der, stolze, küene, Wâleis...</td>\n",
       "      <td>[O, O, O, O, O, O, B, B, O, B, O, B, B, B, O, ...</td>\n",
       "    </tr>\n",
       "    <tr>\n",
       "      <th>3</th>\n",
       "      <td>[erslagn., nu, vergebt, im, sîne, schulde, dur...</td>\n",
       "      <td>[O, O, O, O, O, O, O, O, O, O, O, O, O, O, O, ...</td>\n",
       "    </tr>\n",
       "    <tr>\n",
       "      <th>4</th>\n",
       "      <td>[umbe, begunder, gâhen,, des, küneges, vanen, ...</td>\n",
       "      <td>[O, O, O, O, O, O, O, O, O, O, B, O, O, O, O, ...</td>\n",
       "    </tr>\n",
       "    <tr>\n",
       "      <th>...</th>\n",
       "      <td>...</td>\n",
       "      <td>...</td>\n",
       "    </tr>\n",
       "    <tr>\n",
       "      <th>595</th>\n",
       "      <td>[guoten, ritter, zimet,, swenn, er, den, schil...</td>\n",
       "      <td>[O, O, O, O, O, O, O, O, O, B, O, O, O, O, O, ...</td>\n",
       "    </tr>\n",
       "    <tr>\n",
       "      <th>596</th>\n",
       "      <td>[der, brust, bewart,, so, ist, werder, prîs, d...</td>\n",
       "      <td>[O, O, O, O, O, O, O, O, O, O, O, O, O, O, O, ...</td>\n",
       "    </tr>\n",
       "    <tr>\n",
       "      <th>597</th>\n",
       "      <td>[ein, herre, genant, alsus,, der, künec, Iels,...</td>\n",
       "      <td>[O, O, O, O, O, O, B, O, B, O, B, O, O, O, B, ...</td>\n",
       "    </tr>\n",
       "    <tr>\n",
       "      <th>598</th>\n",
       "      <td>[vor, im, her, gesant,, sît, ichz, lebende, im...</td>\n",
       "      <td>[O, O, O, O, O, O, O, O, O, O, O, O, O, O, O, ...</td>\n",
       "    </tr>\n",
       "    <tr>\n",
       "      <th>599</th>\n",
       "      <td>[lêret, ir, mûze, alsus, volrecken,, nâch, den...</td>\n",
       "      <td>[O, O, O, O, O, O, O, O, O, O, O, O, O, O, O, ...</td>\n",
       "    </tr>\n",
       "  </tbody>\n",
       "</table>\n",
       "<p>600 rows × 2 columns</p>\n",
       "</div>"
      ],
      "text/plain": [
       "                                                tokens  \\\n",
       "0    [sîn, ungevüegez, rîs, in, der, hende, als, ei...   \n",
       "1    [hiez, daz, aller, valsch, an, im, verswant,, ...   \n",
       "2    [het, aldâ, genomn, der, stolze, küene, Wâleis...   \n",
       "3    [erslagn., nu, vergebt, im, sîne, schulde, dur...   \n",
       "4    [umbe, begunder, gâhen,, des, küneges, vanen, ...   \n",
       "..                                                 ...   \n",
       "595  [guoten, ritter, zimet,, swenn, er, den, schil...   \n",
       "596  [der, brust, bewart,, so, ist, werder, prîs, d...   \n",
       "597  [ein, herre, genant, alsus,, der, künec, Iels,...   \n",
       "598  [vor, im, her, gesant,, sît, ichz, lebende, im...   \n",
       "599  [lêret, ir, mûze, alsus, volrecken,, nâch, den...   \n",
       "\n",
       "                                                labels  \n",
       "0    [O, O, O, O, O, O, O, O, O, O, O, O, B, O, O, ...  \n",
       "1    [O, O, O, O, O, O, O, O, O, O, B, O, O, O, O, ...  \n",
       "2    [O, O, O, O, O, O, B, B, O, B, O, B, B, B, O, ...  \n",
       "3    [O, O, O, O, O, O, O, O, O, O, O, O, O, O, O, ...  \n",
       "4    [O, O, O, O, O, O, O, O, O, O, B, O, O, O, O, ...  \n",
       "..                                                 ...  \n",
       "595  [O, O, O, O, O, O, O, O, O, B, O, O, O, O, O, ...  \n",
       "596  [O, O, O, O, O, O, O, O, O, O, O, O, O, O, O, ...  \n",
       "597  [O, O, O, O, O, O, B, O, B, O, B, O, O, O, B, ...  \n",
       "598  [O, O, O, O, O, O, O, O, O, O, O, O, O, O, O, ...  \n",
       "599  [O, O, O, O, O, O, O, O, O, O, O, O, O, O, O, ...  \n",
       "\n",
       "[600 rows x 2 columns]"
      ]
     },
     "execution_count": 12,
     "metadata": {},
     "output_type": "execute_result"
    }
   ],
   "source": [
    "#finetuned_ghisbert_test_df = test_df[[\"tokens\"]].copy()\n",
    "#finetuned_ghisbert_test_df[\"labels\"] = finetuned_ghisbert_test_df[\"tokens\"].apply(lambda x: get_aligned_labels(x, ghisbert(\" \".join(x), aggregation_strategy=\"first\")))\n",
    "\n",
    "finetuned_ghisbert_test_df = pd.read_csv(\"../data/predictions/mwb-texts_NER_test_ghisbert.tsv\", sep=\"\\t\", converters={0: ast.literal_eval, 1: ast.literal_eval})\n",
    "finetuned_ghisbert_test_df"
   ]
  },
  {
   "cell_type": "code",
   "execution_count": 13,
   "id": "adjustable-concern",
   "metadata": {},
   "outputs": [],
   "source": [
    "#finetuned_ghisbert_test_df.to_csv(\"../data/predictions/mwb-texts_NER_test_ghisbert.tsv\", sep=\"\\t\", index=False)"
   ]
  },
  {
   "cell_type": "code",
   "execution_count": 14,
   "id": "historic-shield",
   "metadata": {},
   "outputs": [
    {
     "data": {
      "text/plain": [
       "{'precision': 0.8067581837381204,\n",
       " 'recall': 0.8632768361581921,\n",
       " 'f1_micro': 0.9758691855850135,\n",
       " 'f1_macro': 0.9105248323662948,\n",
       " 'accuracy': 0.9758691855850135}"
      ]
     },
     "execution_count": 14,
     "metadata": {},
     "output_type": "execute_result"
    }
   ],
   "source": [
    "y_ghisbert = list(finetuned_ghisbert_test_df[\"labels\"].explode()) #list(chain(*y_ghisbert)) # flatten list\n",
    "\n",
    "{\n",
    "    \"precision\": precision_score(y_true, y_ghisbert, pos_label=\"B\"),\n",
    "    \"recall\": recall_score(y_true, y_ghisbert, pos_label=\"B\"),\n",
    "    \"f1_micro\": f1_score(y_true, y_ghisbert, average=\"micro\"),\n",
    "    \"f1_macro\": f1_score(y_true, y_ghisbert, average=\"macro\"),\n",
    "    \"accuracy\": accuracy_score(y_true, y_ghisbert)  \n",
    "}"
   ]
  },
  {
   "cell_type": "markdown",
   "id": "billion-certificate",
   "metadata": {},
   "source": [
    "# Evaluate TreeTagger"
   ]
  },
  {
   "cell_type": "code",
   "execution_count": 15,
   "id": "published-abuse",
   "metadata": {},
   "outputs": [
    {
     "name": "stderr",
     "output_type": "stream",
     "text": [
      "/home/pb/.local/lib/python3.8/site-packages/treetaggerwrapper.py:739: FutureWarning: Possible nested set at position 8\n",
      "  punct2find_re = re.compile(\"([^ ])([[\" + ALONEMARKS + \"])\",\n",
      "/home/pb/.local/lib/python3.8/site-packages/treetaggerwrapper.py:2043: FutureWarning: Possible nested set at position 152\n",
      "  DnsHostMatch_re = re.compile(\"(\" + DnsHost_expression + \")\",\n",
      "/home/pb/.local/lib/python3.8/site-packages/treetaggerwrapper.py:2067: FutureWarning: Possible nested set at position 409\n",
      "  UrlMatch_re = re.compile(UrlMatch_expression, re.VERBOSE | re.IGNORECASE)\n",
      "/home/pb/.local/lib/python3.8/site-packages/treetaggerwrapper.py:2079: FutureWarning: Possible nested set at position 192\n",
      "  EmailMatch_re = re.compile(EmailMatch_expression, re.VERBOSE | re.IGNORECASE)\n"
     ]
    }
   ],
   "source": [
    "import treetaggerwrapper\n",
    "\n",
    "def get_tt_label(tagger, tokens):\n",
    "    output = tagger.tag_text([f\"<w>{x}</w>\" for x in tokens])\n",
    "    labels = []\n",
    "    \n",
    "    is_content = False\n",
    "    was_punct = False\n",
    "    for i in range(len(output)):\n",
    "        if output[i] == \"<w>\":\n",
    "            is_content = True\n",
    "            continue\n",
    "        if not is_content:\n",
    "            continue\n",
    "            \n",
    "        if output[i] == \"</w>\" and was_punct:\n",
    "            labels.append(\"O\")\n",
    "            was_punct = False\n",
    "            continue\n",
    "        \n",
    "        pos = output[i].split(\"\\t\")[1] # MEMO: output is a list with {token}\\t{POS}\\t{lemma}\n",
    "        if pos == \"PUNCT\":\n",
    "            was_punct = True\n",
    "            continue\n",
    "        if pos == \"PROPN\":\n",
    "            labels.append(\"B\")\n",
    "        else:\n",
    "            labels.append(\"O\")\n",
    "        is_content = False\n",
    "    return labels\n",
    "\n",
    "# MEMO: paths need to be adapted!\n",
    "tagger = treetaggerwrapper.TreeTagger(TAGDIR='../lib/tree-tagger/tree-tagger-linux-3.2.4', TAGPARFILE='../lib/tree-tagger/middle-high-german.par', TAGOPT=\"-token -lemma -sgml\")"
   ]
  },
  {
   "cell_type": "code",
   "execution_count": 16,
   "id": "organizational-toner",
   "metadata": {},
   "outputs": [
    {
     "data": {
      "text/html": [
       "<div>\n",
       "<style scoped>\n",
       "    .dataframe tbody tr th:only-of-type {\n",
       "        vertical-align: middle;\n",
       "    }\n",
       "\n",
       "    .dataframe tbody tr th {\n",
       "        vertical-align: top;\n",
       "    }\n",
       "\n",
       "    .dataframe thead th {\n",
       "        text-align: right;\n",
       "    }\n",
       "</style>\n",
       "<table border=\"1\" class=\"dataframe\">\n",
       "  <thead>\n",
       "    <tr style=\"text-align: right;\">\n",
       "      <th></th>\n",
       "      <th>tokens</th>\n",
       "      <th>labels</th>\n",
       "    </tr>\n",
       "  </thead>\n",
       "  <tbody>\n",
       "    <tr>\n",
       "      <th>0</th>\n",
       "      <td>[sîn, ungevüegez, rîs, in, der, hende, als, ei...</td>\n",
       "      <td>[O, O, O, O, O, O, O, O, O, O, O, O, O, O, O, ...</td>\n",
       "    </tr>\n",
       "    <tr>\n",
       "      <th>1</th>\n",
       "      <td>[hiez, daz, aller, valsch, an, im, verswant,, ...</td>\n",
       "      <td>[O, O, O, O, O, O, O, O, O, O, B, O, O, O, O, ...</td>\n",
       "    </tr>\n",
       "    <tr>\n",
       "      <th>2</th>\n",
       "      <td>[het, aldâ, genomn, der, stolze, küene, Wâleis...</td>\n",
       "      <td>[O, O, O, O, O, O, B, B, O, B, O, B, O, B, O, ...</td>\n",
       "    </tr>\n",
       "    <tr>\n",
       "      <th>3</th>\n",
       "      <td>[erslagn., nu, vergebt, im, sîne, schulde, dur...</td>\n",
       "      <td>[O, O, O, O, O, O, O, O, O, O, O, O, O, O, O, ...</td>\n",
       "    </tr>\n",
       "    <tr>\n",
       "      <th>4</th>\n",
       "      <td>[umbe, begunder, gâhen,, des, küneges, vanen, ...</td>\n",
       "      <td>[O, O, O, O, O, O, O, O, O, O, O, O, O, O, O, ...</td>\n",
       "    </tr>\n",
       "    <tr>\n",
       "      <th>...</th>\n",
       "      <td>...</td>\n",
       "      <td>...</td>\n",
       "    </tr>\n",
       "    <tr>\n",
       "      <th>595</th>\n",
       "      <td>[guoten, ritter, zimet,, swenn, er, den, schil...</td>\n",
       "      <td>[O, O, O, O, O, O, O, O, O, O, O, O, O, O, O, ...</td>\n",
       "    </tr>\n",
       "    <tr>\n",
       "      <th>596</th>\n",
       "      <td>[der, brust, bewart,, so, ist, werder, prîs, d...</td>\n",
       "      <td>[O, O, O, O, O, O, O, O, O, O, O, O, O, O, O, ...</td>\n",
       "    </tr>\n",
       "    <tr>\n",
       "      <th>597</th>\n",
       "      <td>[ein, herre, genant, alsus,, der, künec, Iels,...</td>\n",
       "      <td>[O, O, O, O, O, O, B, O, B, O, O, O, O, B, B, ...</td>\n",
       "    </tr>\n",
       "    <tr>\n",
       "      <th>598</th>\n",
       "      <td>[vor, im, her, gesant,, sît, ichz, lebende, im...</td>\n",
       "      <td>[O, O, O, O, O, O, O, O, O, O, O, O, O, O, O, ...</td>\n",
       "    </tr>\n",
       "    <tr>\n",
       "      <th>599</th>\n",
       "      <td>[lêret, ir, mûze, alsus, volrecken,, nâch, den...</td>\n",
       "      <td>[O, O, O, O, O, O, O, O, O, O, O, O, O, O, O, ...</td>\n",
       "    </tr>\n",
       "  </tbody>\n",
       "</table>\n",
       "<p>600 rows × 2 columns</p>\n",
       "</div>"
      ],
      "text/plain": [
       "                                                tokens  \\\n",
       "0    [sîn, ungevüegez, rîs, in, der, hende, als, ei...   \n",
       "1    [hiez, daz, aller, valsch, an, im, verswant,, ...   \n",
       "2    [het, aldâ, genomn, der, stolze, küene, Wâleis...   \n",
       "3    [erslagn., nu, vergebt, im, sîne, schulde, dur...   \n",
       "4    [umbe, begunder, gâhen,, des, küneges, vanen, ...   \n",
       "..                                                 ...   \n",
       "595  [guoten, ritter, zimet,, swenn, er, den, schil...   \n",
       "596  [der, brust, bewart,, so, ist, werder, prîs, d...   \n",
       "597  [ein, herre, genant, alsus,, der, künec, Iels,...   \n",
       "598  [vor, im, her, gesant,, sît, ichz, lebende, im...   \n",
       "599  [lêret, ir, mûze, alsus, volrecken,, nâch, den...   \n",
       "\n",
       "                                                labels  \n",
       "0    [O, O, O, O, O, O, O, O, O, O, O, O, O, O, O, ...  \n",
       "1    [O, O, O, O, O, O, O, O, O, O, B, O, O, O, O, ...  \n",
       "2    [O, O, O, O, O, O, B, B, O, B, O, B, O, B, O, ...  \n",
       "3    [O, O, O, O, O, O, O, O, O, O, O, O, O, O, O, ...  \n",
       "4    [O, O, O, O, O, O, O, O, O, O, O, O, O, O, O, ...  \n",
       "..                                                 ...  \n",
       "595  [O, O, O, O, O, O, O, O, O, O, O, O, O, O, O, ...  \n",
       "596  [O, O, O, O, O, O, O, O, O, O, O, O, O, O, O, ...  \n",
       "597  [O, O, O, O, O, O, B, O, B, O, O, O, O, B, B, ...  \n",
       "598  [O, O, O, O, O, O, O, O, O, O, O, O, O, O, O, ...  \n",
       "599  [O, O, O, O, O, O, O, O, O, O, O, O, O, O, O, ...  \n",
       "\n",
       "[600 rows x 2 columns]"
      ]
     },
     "execution_count": 16,
     "metadata": {},
     "output_type": "execute_result"
    }
   ],
   "source": [
    "#tt_test_df = test_df[[\"tokens\"]].copy()\n",
    "#tt_test_df[\"labels\"] = tt_test_df[\"tokens\"].apply(lambda x: get_tt_label(tagger, x))\n",
    "tt_test_df = pd.read_csv(\"../data/predictions/mwb-texts_NER_test_tt.tsv\", sep=\"\\t\", converters={0: ast.literal_eval, 1: ast.literal_eval})\n",
    "tt_test_df"
   ]
  },
  {
   "cell_type": "code",
   "execution_count": 17,
   "id": "aging-referral",
   "metadata": {},
   "outputs": [],
   "source": [
    "#tt_test_df.to_csv(\"../data/predictions/mwb-texts_NER_test_tt.tsv\", sep=\"\\t\", index=False)"
   ]
  },
  {
   "cell_type": "code",
   "execution_count": 18,
   "id": "communist-indonesia",
   "metadata": {},
   "outputs": [
    {
     "data": {
      "text/plain": [
       "{'precision': 0.9622377622377623,\n",
       " 'recall': 0.7774011299435029,\n",
       " 'f1_micro': 0.9822193999047468,\n",
       " 'f1_macro': 0.925253432785218,\n",
       " 'accuracy': 0.9822193999047468}"
      ]
     },
     "execution_count": 18,
     "metadata": {},
     "output_type": "execute_result"
    }
   ],
   "source": [
    "y_tt = list(tt_test_df[\"labels\"].explode())\n",
    "\n",
    "{\n",
    "    \"precision\": precision_score(y_true, y_tt, pos_label=\"B\"),\n",
    "    \"recall\": recall_score(y_true, y_tt, pos_label=\"B\"),\n",
    "    \"f1_micro\": f1_score(y_true, y_tt, average=\"micro\"),\n",
    "    \"f1_macro\": f1_score(y_true, y_tt, average=\"macro\"),\n",
    "    \"accuracy\": accuracy_score(y_true, y_tt)  \n",
    "}"
   ]
  },
  {
   "cell_type": "markdown",
   "id": "white-standing",
   "metadata": {},
   "source": [
    "# Evaluate off-the-shelf NER model"
   ]
  },
  {
   "cell_type": "code",
   "execution_count": 19,
   "id": "patent-opportunity",
   "metadata": {
    "scrolled": true
   },
   "outputs": [
    {
     "name": "stderr",
     "output_type": "stream",
     "text": [
      "2024-06-03 14:50:16 INFO: Checking for updates to resources.json in case models have been updated.  Note: this behavior can be turned off with download_method=None or download_method=DownloadMethod.REUSE_RESOURCES\n"
     ]
    },
    {
     "data": {
      "application/vnd.jupyter.widget-view+json": {
       "model_id": "28eb586c5ffd498f8c9f245781f6f742",
       "version_major": 2,
       "version_minor": 0
      },
      "text/plain": [
       "Downloading https://raw.githubusercontent.com/stanfordnlp/stanza-resources/main/resources_1.8.0.json:   0%|   …"
      ]
     },
     "metadata": {},
     "output_type": "display_data"
    },
    {
     "name": "stderr",
     "output_type": "stream",
     "text": [
      "2024-06-03 14:50:16 INFO: Downloaded file to /home/pb/stanza_resources/resources.json\n",
      "2024-06-03 14:50:16 WARNING: Language de package default expects mwt, which has been added\n",
      "2024-06-03 14:50:17 INFO: Loading these models for language: de (German):\n",
      "============================\n",
      "| Processor | Package      |\n",
      "----------------------------\n",
      "| tokenize  | gsd          |\n",
      "| mwt       | gsd          |\n",
      "| ner       | germeval2014 |\n",
      "============================\n",
      "\n",
      "2024-06-03 14:50:17 INFO: Using device: cpu\n",
      "2024-06-03 14:50:17 INFO: Loading: tokenize\n",
      "2024-06-03 14:50:17 INFO: Loading: mwt\n",
      "2024-06-03 14:50:17 INFO: Loading: ner\n",
      "2024-06-03 14:50:18 INFO: Done loading processors!\n"
     ]
    }
   ],
   "source": [
    "import stanza\n",
    "\n",
    "def get_stanza_entities(stanza_output):\n",
    "    entities = []\n",
    "    for entity in stanza_output.ents:\n",
    "        if entity.type in [\"PER\", \"LOC\"]:\n",
    "            entities.append({\"word\": entity.text, \"start\": entity.start_char, \"end\": entity.end_char})\n",
    "    return entities\n",
    "\n",
    "stanza = stanza.Pipeline(lang='de', processors='tokenize,ner')"
   ]
  },
  {
   "cell_type": "code",
   "execution_count": 20,
   "id": "designed-airline",
   "metadata": {},
   "outputs": [
    {
     "data": {
      "text/html": [
       "<div>\n",
       "<style scoped>\n",
       "    .dataframe tbody tr th:only-of-type {\n",
       "        vertical-align: middle;\n",
       "    }\n",
       "\n",
       "    .dataframe tbody tr th {\n",
       "        vertical-align: top;\n",
       "    }\n",
       "\n",
       "    .dataframe thead th {\n",
       "        text-align: right;\n",
       "    }\n",
       "</style>\n",
       "<table border=\"1\" class=\"dataframe\">\n",
       "  <thead>\n",
       "    <tr style=\"text-align: right;\">\n",
       "      <th></th>\n",
       "      <th>tokens</th>\n",
       "      <th>labels</th>\n",
       "    </tr>\n",
       "  </thead>\n",
       "  <tbody>\n",
       "    <tr>\n",
       "      <th>0</th>\n",
       "      <td>[sîn, ungevüegez, rîs, in, der, hende, als, ei...</td>\n",
       "      <td>[O, O, O, O, O, O, O, O, O, O, B, O, B, O, B, ...</td>\n",
       "    </tr>\n",
       "    <tr>\n",
       "      <th>1</th>\n",
       "      <td>[hiez, daz, aller, valsch, an, im, verswant,, ...</td>\n",
       "      <td>[O, O, O, O, O, O, O, O, O, O, B, O, O, O, O, ...</td>\n",
       "    </tr>\n",
       "    <tr>\n",
       "      <th>2</th>\n",
       "      <td>[het, aldâ, genomn, der, stolze, küene, Wâleis...</td>\n",
       "      <td>[O, O, O, O, O, O, O, O, O, O, O, O, O, O, O, ...</td>\n",
       "    </tr>\n",
       "    <tr>\n",
       "      <th>3</th>\n",
       "      <td>[erslagn., nu, vergebt, im, sîne, schulde, dur...</td>\n",
       "      <td>[O, O, O, O, O, O, O, O, O, O, O, O, O, O, O, ...</td>\n",
       "    </tr>\n",
       "    <tr>\n",
       "      <th>4</th>\n",
       "      <td>[umbe, begunder, gâhen,, des, küneges, vanen, ...</td>\n",
       "      <td>[O, O, O, O, O, O, O, O, O, O, O, O, O, O, O, ...</td>\n",
       "    </tr>\n",
       "    <tr>\n",
       "      <th>...</th>\n",
       "      <td>...</td>\n",
       "      <td>...</td>\n",
       "    </tr>\n",
       "    <tr>\n",
       "      <th>595</th>\n",
       "      <td>[guoten, ritter, zimet,, swenn, er, den, schil...</td>\n",
       "      <td>[O, O, O, O, O, O, O, O, O, O, O, O, O, O, O, ...</td>\n",
       "    </tr>\n",
       "    <tr>\n",
       "      <th>596</th>\n",
       "      <td>[der, brust, bewart,, so, ist, werder, prîs, d...</td>\n",
       "      <td>[O, O, O, O, O, O, O, O, O, O, O, O, O, O, O, ...</td>\n",
       "    </tr>\n",
       "    <tr>\n",
       "      <th>597</th>\n",
       "      <td>[ein, herre, genant, alsus,, der, künec, Iels,...</td>\n",
       "      <td>[O, O, O, O, O, O, O, O, B, O, O, O, O, O, B, ...</td>\n",
       "    </tr>\n",
       "    <tr>\n",
       "      <th>598</th>\n",
       "      <td>[vor, im, her, gesant,, sît, ichz, lebende, im...</td>\n",
       "      <td>[O, O, O, O, O, O, O, O, O, O, O, O, O, O, O, ...</td>\n",
       "    </tr>\n",
       "    <tr>\n",
       "      <th>599</th>\n",
       "      <td>[lêret, ir, mûze, alsus, volrecken,, nâch, den...</td>\n",
       "      <td>[O, O, O, O, O, O, O, O, O, O, O, O, O, O, O, ...</td>\n",
       "    </tr>\n",
       "  </tbody>\n",
       "</table>\n",
       "<p>600 rows × 2 columns</p>\n",
       "</div>"
      ],
      "text/plain": [
       "                                                tokens  \\\n",
       "0    [sîn, ungevüegez, rîs, in, der, hende, als, ei...   \n",
       "1    [hiez, daz, aller, valsch, an, im, verswant,, ...   \n",
       "2    [het, aldâ, genomn, der, stolze, küene, Wâleis...   \n",
       "3    [erslagn., nu, vergebt, im, sîne, schulde, dur...   \n",
       "4    [umbe, begunder, gâhen,, des, küneges, vanen, ...   \n",
       "..                                                 ...   \n",
       "595  [guoten, ritter, zimet,, swenn, er, den, schil...   \n",
       "596  [der, brust, bewart,, so, ist, werder, prîs, d...   \n",
       "597  [ein, herre, genant, alsus,, der, künec, Iels,...   \n",
       "598  [vor, im, her, gesant,, sît, ichz, lebende, im...   \n",
       "599  [lêret, ir, mûze, alsus, volrecken,, nâch, den...   \n",
       "\n",
       "                                                labels  \n",
       "0    [O, O, O, O, O, O, O, O, O, O, B, O, B, O, B, ...  \n",
       "1    [O, O, O, O, O, O, O, O, O, O, B, O, O, O, O, ...  \n",
       "2    [O, O, O, O, O, O, O, O, O, O, O, O, O, O, O, ...  \n",
       "3    [O, O, O, O, O, O, O, O, O, O, O, O, O, O, O, ...  \n",
       "4    [O, O, O, O, O, O, O, O, O, O, O, O, O, O, O, ...  \n",
       "..                                                 ...  \n",
       "595  [O, O, O, O, O, O, O, O, O, O, O, O, O, O, O, ...  \n",
       "596  [O, O, O, O, O, O, O, O, O, O, O, O, O, O, O, ...  \n",
       "597  [O, O, O, O, O, O, O, O, B, O, O, O, O, O, B, ...  \n",
       "598  [O, O, O, O, O, O, O, O, O, O, O, O, O, O, O, ...  \n",
       "599  [O, O, O, O, O, O, O, O, O, O, O, O, O, O, O, ...  \n",
       "\n",
       "[600 rows x 2 columns]"
      ]
     },
     "execution_count": 20,
     "metadata": {},
     "output_type": "execute_result"
    }
   ],
   "source": [
    "#stanza_test_df = test_df[[\"tokens\"]].copy()\n",
    "#stanza_test_df[\"labels\"] = stanza_test_df[\"tokens\"].apply(lambda x: get_aligned_labels(x, get_stanza_entities(stanza(\" \".join(x)))))\n",
    "\n",
    "stanza_test_df = pd.read_csv(\"../data/predictions/mwb-texts_NER_test_stanza.tsv\", sep=\"\\t\", converters={0: ast.literal_eval, 1: ast.literal_eval})\n",
    "stanza_test_df"
   ]
  },
  {
   "cell_type": "code",
   "execution_count": 21,
   "id": "boolean-producer",
   "metadata": {},
   "outputs": [],
   "source": [
    "#stanza_test_df.to_csv(\"../data/predictions/mwb-texts_NER_test_stanza.tsv\", sep=\"\\t\", index=False)"
   ]
  },
  {
   "cell_type": "code",
   "execution_count": 22,
   "id": "unknown-parent",
   "metadata": {},
   "outputs": [
    {
     "data": {
      "text/plain": [
       "{'precision': 0.868020304568528,\n",
       " 'recall': 0.19322033898305085,\n",
       " 'f1_micro': 0.9412605175424671,\n",
       " 'f1_macro': 0.6426968817402612,\n",
       " 'accuracy': 0.9412605175424671}"
      ]
     },
     "execution_count": 22,
     "metadata": {},
     "output_type": "execute_result"
    }
   ],
   "source": [
    "y_stanza = list(stanza_test_df[\"labels\"].explode())\n",
    "\n",
    "{\n",
    "    \"precision\": precision_score(y_true, y_stanza, pos_label=\"B\"),\n",
    "    \"recall\": recall_score(y_true, y_stanza, pos_label=\"B\"),\n",
    "    \"f1_micro\": f1_score(y_true, y_stanza, average=\"micro\"),\n",
    "    \"f1_macro\": f1_score(y_true, y_stanza, average=\"macro\"),\n",
    "    \"accuracy\": accuracy_score(y_true, y_stanza)  \n",
    "}"
   ]
  },
  {
   "cell_type": "markdown",
   "id": "decreased-houston",
   "metadata": {},
   "source": [
    "# Evaluate String Matching"
   ]
  },
  {
   "cell_type": "code",
   "execution_count": 23,
   "id": "passive-bunny",
   "metadata": {},
   "outputs": [
    {
     "data": {
      "text/plain": [
       "4974"
      ]
     },
     "execution_count": 23,
     "metadata": {},
     "output_type": "execute_result"
    }
   ],
   "source": [
    "import re\n",
    "\n",
    "def remove_punctuation(token):\n",
    "    punct_pattern = r\"\\[\\]_/()?!.,:;><›‹»«“”„‘’‚‟‛'\" + '\"'\n",
    "    return re.sub(f\"^[{punct_pattern}]*?(.+?)[{punct_pattern}]*$\", \"\\\\1\", token)\n",
    "\n",
    "names = list(pd.read_csv(\"../models/names-mwb.tsv\", sep=\"\\t\", header=0, names=[\"name\"])[\"name\"])\n",
    "len(names)"
   ]
  },
  {
   "cell_type": "code",
   "execution_count": 24,
   "id": "opened-notice",
   "metadata": {},
   "outputs": [
    {
     "data": {
      "text/html": [
       "<div>\n",
       "<style scoped>\n",
       "    .dataframe tbody tr th:only-of-type {\n",
       "        vertical-align: middle;\n",
       "    }\n",
       "\n",
       "    .dataframe tbody tr th {\n",
       "        vertical-align: top;\n",
       "    }\n",
       "\n",
       "    .dataframe thead th {\n",
       "        text-align: right;\n",
       "    }\n",
       "</style>\n",
       "<table border=\"1\" class=\"dataframe\">\n",
       "  <thead>\n",
       "    <tr style=\"text-align: right;\">\n",
       "      <th></th>\n",
       "      <th>tokens</th>\n",
       "      <th>labels</th>\n",
       "    </tr>\n",
       "  </thead>\n",
       "  <tbody>\n",
       "    <tr>\n",
       "      <th>0</th>\n",
       "      <td>[sîn, ungevüegez, rîs, in, der, hende, als, ei...</td>\n",
       "      <td>[O, O, O, O, O, O, O, O, O, O, O, O, O, O, O, ...</td>\n",
       "    </tr>\n",
       "    <tr>\n",
       "      <th>1</th>\n",
       "      <td>[hiez, daz, aller, valsch, an, im, verswant,, ...</td>\n",
       "      <td>[O, O, O, O, O, O, O, O, O, O, O, O, O, O, O, ...</td>\n",
       "    </tr>\n",
       "    <tr>\n",
       "      <th>2</th>\n",
       "      <td>[het, aldâ, genomn, der, stolze, küene, Wâleis...</td>\n",
       "      <td>[O, O, O, O, O, O, O, O, O, O, O, O, O, O, O, ...</td>\n",
       "    </tr>\n",
       "    <tr>\n",
       "      <th>3</th>\n",
       "      <td>[erslagn., nu, vergebt, im, sîne, schulde, dur...</td>\n",
       "      <td>[O, O, O, O, O, O, O, O, O, O, O, O, O, O, O, ...</td>\n",
       "    </tr>\n",
       "    <tr>\n",
       "      <th>4</th>\n",
       "      <td>[umbe, begunder, gâhen,, des, küneges, vanen, ...</td>\n",
       "      <td>[O, O, O, O, O, O, O, O, O, O, O, O, O, O, O, ...</td>\n",
       "    </tr>\n",
       "    <tr>\n",
       "      <th>...</th>\n",
       "      <td>...</td>\n",
       "      <td>...</td>\n",
       "    </tr>\n",
       "    <tr>\n",
       "      <th>595</th>\n",
       "      <td>[guoten, ritter, zimet,, swenn, er, den, schil...</td>\n",
       "      <td>[O, O, O, O, O, O, O, O, O, O, O, O, O, O, O, ...</td>\n",
       "    </tr>\n",
       "    <tr>\n",
       "      <th>596</th>\n",
       "      <td>[der, brust, bewart,, so, ist, werder, prîs, d...</td>\n",
       "      <td>[O, O, O, O, O, O, O, O, O, O, O, O, O, O, O, ...</td>\n",
       "    </tr>\n",
       "    <tr>\n",
       "      <th>597</th>\n",
       "      <td>[ein, herre, genant, alsus,, der, künec, Iels,...</td>\n",
       "      <td>[O, O, O, O, O, O, O, O, O, O, O, O, O, B, O, ...</td>\n",
       "    </tr>\n",
       "    <tr>\n",
       "      <th>598</th>\n",
       "      <td>[vor, im, her, gesant,, sît, ichz, lebende, im...</td>\n",
       "      <td>[O, O, O, O, O, O, O, O, O, O, O, O, O, O, O, ...</td>\n",
       "    </tr>\n",
       "    <tr>\n",
       "      <th>599</th>\n",
       "      <td>[lêret, ir, mûze, alsus, volrecken,, nâch, den...</td>\n",
       "      <td>[O, O, O, O, O, O, O, O, O, O, O, O, O, O, O, ...</td>\n",
       "    </tr>\n",
       "  </tbody>\n",
       "</table>\n",
       "<p>600 rows × 2 columns</p>\n",
       "</div>"
      ],
      "text/plain": [
       "                                                tokens  \\\n",
       "0    [sîn, ungevüegez, rîs, in, der, hende, als, ei...   \n",
       "1    [hiez, daz, aller, valsch, an, im, verswant,, ...   \n",
       "2    [het, aldâ, genomn, der, stolze, küene, Wâleis...   \n",
       "3    [erslagn., nu, vergebt, im, sîne, schulde, dur...   \n",
       "4    [umbe, begunder, gâhen,, des, küneges, vanen, ...   \n",
       "..                                                 ...   \n",
       "595  [guoten, ritter, zimet,, swenn, er, den, schil...   \n",
       "596  [der, brust, bewart,, so, ist, werder, prîs, d...   \n",
       "597  [ein, herre, genant, alsus,, der, künec, Iels,...   \n",
       "598  [vor, im, her, gesant,, sît, ichz, lebende, im...   \n",
       "599  [lêret, ir, mûze, alsus, volrecken,, nâch, den...   \n",
       "\n",
       "                                                labels  \n",
       "0    [O, O, O, O, O, O, O, O, O, O, O, O, O, O, O, ...  \n",
       "1    [O, O, O, O, O, O, O, O, O, O, O, O, O, O, O, ...  \n",
       "2    [O, O, O, O, O, O, O, O, O, O, O, O, O, O, O, ...  \n",
       "3    [O, O, O, O, O, O, O, O, O, O, O, O, O, O, O, ...  \n",
       "4    [O, O, O, O, O, O, O, O, O, O, O, O, O, O, O, ...  \n",
       "..                                                 ...  \n",
       "595  [O, O, O, O, O, O, O, O, O, O, O, O, O, O, O, ...  \n",
       "596  [O, O, O, O, O, O, O, O, O, O, O, O, O, O, O, ...  \n",
       "597  [O, O, O, O, O, O, O, O, O, O, O, O, O, B, O, ...  \n",
       "598  [O, O, O, O, O, O, O, O, O, O, O, O, O, O, O, ...  \n",
       "599  [O, O, O, O, O, O, O, O, O, O, O, O, O, O, O, ...  \n",
       "\n",
       "[600 rows x 2 columns]"
      ]
     },
     "execution_count": 24,
     "metadata": {},
     "output_type": "execute_result"
    }
   ],
   "source": [
    "type_list_test_df = test_df[[\"tokens\"]].copy()\n",
    "type_list_test_df[\"labels\"] = type_list_test_df[\"tokens\"].apply(lambda x: [\"B\" if remove_punctuation(token) in names else \"O\" for token in x])\n",
    "type_list_test_df"
   ]
  },
  {
   "cell_type": "code",
   "execution_count": 25,
   "id": "virtual-timer",
   "metadata": {},
   "outputs": [
    {
     "data": {
      "text/plain": [
       "{'precision': 0.9956709956709957,\n",
       " 'recall': 0.519774011299435,\n",
       " 'f1_micro': 0.9661057310684236,\n",
       " 'f1_macro': 0.832547471481593,\n",
       " 'accuracy': 0.9661057310684236}"
      ]
     },
     "execution_count": 25,
     "metadata": {},
     "output_type": "execute_result"
    }
   ],
   "source": [
    "y_type_list = list(type_list_test_df[\"labels\"].explode())\n",
    "\n",
    "{\n",
    "    \"precision\": precision_score(y_true, y_type_list, pos_label=\"B\"),\n",
    "    \"recall\": recall_score(y_true, y_type_list, pos_label=\"B\"),\n",
    "    \"f1_micro\": f1_score(y_true, y_type_list, average=\"micro\"),\n",
    "    \"f1_macro\": f1_score(y_true, y_type_list, average=\"macro\"),\n",
    "    \"accuracy\": accuracy_score(y_true, y_type_list)  \n",
    "}"
   ]
  }
 ],
 "metadata": {
  "kernelspec": {
   "display_name": "Python (shap-env)",
   "language": "python",
   "name": "shap-env"
  },
  "language_info": {
   "codemirror_mode": {
    "name": "ipython",
    "version": 3
   },
   "file_extension": ".py",
   "mimetype": "text/x-python",
   "name": "python",
   "nbconvert_exporter": "python",
   "pygments_lexer": "ipython3",
   "version": "3.8.10"
  }
 },
 "nbformat": 4,
 "nbformat_minor": 5
}
