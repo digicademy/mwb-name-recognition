{
 "cells": [
  {
   "cell_type": "code",
   "execution_count": 1,
   "id": "handled-blood",
   "metadata": {},
   "outputs": [
    {
     "name": "stderr",
     "output_type": "stream",
     "text": [
      "/usr/lib/python3/dist-packages/requests/__init__.py:89: RequestsDependencyWarning: urllib3 (2.0.3) or chardet (3.0.4) doesn't match a supported version!\n",
      "  warnings.warn(\"urllib3 ({}) or chardet ({}) doesn't match a supported \"\n"
     ]
    }
   ],
   "source": [
    "import ast\n",
    "import pandas as pd\n",
    "\n",
    "from datasets import ClassLabel, Dataset, Features, Sequence, Value"
   ]
  },
  {
   "cell_type": "markdown",
   "id": "infinite-stuart",
   "metadata": {},
   "source": [
    "# Load Data"
   ]
  },
  {
   "cell_type": "code",
   "execution_count": 2,
   "id": "together-stanford",
   "metadata": {},
   "outputs": [],
   "source": [
    "data_path = \"../data/fine-tuning/\""
   ]
  },
  {
   "cell_type": "code",
   "execution_count": 3,
   "id": "scientific-munich",
   "metadata": {},
   "outputs": [
    {
     "data": {
      "text/html": [
       "<div>\n",
       "<style scoped>\n",
       "    .dataframe tbody tr th:only-of-type {\n",
       "        vertical-align: middle;\n",
       "    }\n",
       "\n",
       "    .dataframe tbody tr th {\n",
       "        vertical-align: top;\n",
       "    }\n",
       "\n",
       "    .dataframe thead th {\n",
       "        text-align: right;\n",
       "    }\n",
       "</style>\n",
       "<table border=\"1\" class=\"dataframe\">\n",
       "  <thead>\n",
       "    <tr style=\"text-align: right;\">\n",
       "      <th></th>\n",
       "      <th>source</th>\n",
       "      <th>n</th>\n",
       "      <th>tokens</th>\n",
       "      <th>labels</th>\n",
       "    </tr>\n",
       "  </thead>\n",
       "  <tbody>\n",
       "    <tr>\n",
       "      <th>0</th>\n",
       "      <td>Wh</td>\n",
       "      <td>57329</td>\n",
       "      <td>[durh, den, markys., dâ, wart, unverdrozzen, d...</td>\n",
       "      <td>[O, O, O, O, O, O, O, O, O, O, O, O, O, O, O, ...</td>\n",
       "    </tr>\n",
       "    <tr>\n",
       "      <th>1</th>\n",
       "      <td>UvZLanz</td>\n",
       "      <td>46148</td>\n",
       "      <td>[und, er, sich, ûf, ein, puneiz, mit, rîchem, ...</td>\n",
       "      <td>[O, O, O, O, O, O, O, O, O, O, O, O, O, O, O, ...</td>\n",
       "    </tr>\n",
       "    <tr>\n",
       "      <th>2</th>\n",
       "      <td>UvZLanz</td>\n",
       "      <td>20409</td>\n",
       "      <td>[trûrikheit, vergaʒ., den, walt, nante, man, d...</td>\n",
       "      <td>[O, O, O, O, O, O, O, O, B, O, O, O, O, O,...</td>\n",
       "    </tr>\n",
       "    <tr>\n",
       "      <th>3</th>\n",
       "      <td>Wh</td>\n",
       "      <td>41911</td>\n",
       "      <td>[krône, bî, der, zît, truoc:, daz, was, gar, â...</td>\n",
       "      <td>[O, O, O, O, O, O, O, O, O, O, O, O, O, O, O, ...</td>\n",
       "    </tr>\n",
       "    <tr>\n",
       "      <th>4</th>\n",
       "      <td>Wig</td>\n",
       "      <td>54091</td>\n",
       "      <td>[truoc, den, ir, grôziu, schœne, sluoc., owê, ...</td>\n",
       "      <td>[O, O, O, O, O, O, O, O, O, O, O, O, O, O, O, ...</td>\n",
       "    </tr>\n",
       "    <tr>\n",
       "      <th>...</th>\n",
       "      <td>...</td>\n",
       "      <td>...</td>\n",
       "      <td>...</td>\n",
       "      <td>...</td>\n",
       "    </tr>\n",
       "    <tr>\n",
       "      <th>2995</th>\n",
       "      <td>RvEBarl</td>\n",
       "      <td>76048</td>\n",
       "      <td>[im, sîne, man, lange, weinende, dan., sie, sp...</td>\n",
       "      <td>[O, O, O, O, O, O, O, O, O, O, B, O, O, O,...</td>\n",
       "    </tr>\n",
       "    <tr>\n",
       "      <th>2996</th>\n",
       "      <td>RvEBarl</td>\n",
       "      <td>79897</td>\n",
       "      <td>[morgen, anehuop,, bî, dem, hol, vil, nâhen, g...</td>\n",
       "      <td>[O, O, O, O, O, O, O, O, O, O, B, O, O, O,...</td>\n",
       "    </tr>\n",
       "    <tr>\n",
       "      <th>2997</th>\n",
       "      <td>Wh</td>\n",
       "      <td>36607</td>\n",
       "      <td>[marhcrâve, ir, dô, sagete:, ‘dâ, kumet, der, ...</td>\n",
       "      <td>[O, O, O, O, O, O, O, O, O, O, B, O, B...</td>\n",
       "    </tr>\n",
       "    <tr>\n",
       "      <th>2998</th>\n",
       "      <td>Wig</td>\n",
       "      <td>48137</td>\n",
       "      <td>[enpfâhen, von, des, heldes, hant, der, den, h...</td>\n",
       "      <td>[O, O, O, O, O, O, O, O, O, O, B, O, O, O,...</td>\n",
       "    </tr>\n",
       "    <tr>\n",
       "      <th>2999</th>\n",
       "      <td>Wh</td>\n",
       "      <td>64585</td>\n",
       "      <td>[genuoc., aldâ, wart, ledic, Gibelîn,, Bertram...</td>\n",
       "      <td>[O, O, O, O, B, B, O, B, B, O,...</td>\n",
       "    </tr>\n",
       "  </tbody>\n",
       "</table>\n",
       "<p>3000 rows × 4 columns</p>\n",
       "</div>"
      ],
      "text/plain": [
       "       source      n                                             tokens  \\\n",
       "0          Wh  57329  [durh, den, markys., dâ, wart, unverdrozzen, d...   \n",
       "1     UvZLanz  46148  [und, er, sich, ûf, ein, puneiz, mit, rîchem, ...   \n",
       "2     UvZLanz  20409  [trûrikheit, vergaʒ., den, walt, nante, man, d...   \n",
       "3          Wh  41911  [krône, bî, der, zît, truoc:, daz, was, gar, â...   \n",
       "4         Wig  54091  [truoc, den, ir, grôziu, schœne, sluoc., owê, ...   \n",
       "...       ...    ...                                                ...   \n",
       "2995  RvEBarl  76048  [im, sîne, man, lange, weinende, dan., sie, sp...   \n",
       "2996  RvEBarl  79897  [morgen, anehuop,, bî, dem, hol, vil, nâhen, g...   \n",
       "2997       Wh  36607  [marhcrâve, ir, dô, sagete:, ‘dâ, kumet, der, ...   \n",
       "2998      Wig  48137  [enpfâhen, von, des, heldes, hant, der, den, h...   \n",
       "2999       Wh  64585  [genuoc., aldâ, wart, ledic, Gibelîn,, Bertram...   \n",
       "\n",
       "                                                 labels  \n",
       "0     [O, O, O, O, O, O, O, O, O, O, O, O, O, O, O, ...  \n",
       "1     [O, O, O, O, O, O, O, O, O, O, O, O, O, O, O, ...  \n",
       "2     [O, O, O, O, O, O, O, O, B, O, O, O, O, O,...  \n",
       "3     [O, O, O, O, O, O, O, O, O, O, O, O, O, O, O, ...  \n",
       "4     [O, O, O, O, O, O, O, O, O, O, O, O, O, O, O, ...  \n",
       "...                                                 ...  \n",
       "2995  [O, O, O, O, O, O, O, O, O, O, B, O, O, O,...  \n",
       "2996  [O, O, O, O, O, O, O, O, O, O, B, O, O, O,...  \n",
       "2997  [O, O, O, O, O, O, O, O, O, O, B, O, B...  \n",
       "2998  [O, O, O, O, O, O, O, O, O, O, B, O, O, O,...  \n",
       "2999  [O, O, O, O, B, B, O, B, B, O,...  \n",
       "\n",
       "[3000 rows x 4 columns]"
      ]
     },
     "execution_count": 3,
     "metadata": {},
     "output_type": "execute_result"
    }
   ],
   "source": [
    "df = pd.read_csv(data_path + \"mwb-texts_NER_goldstandard.tsv\", sep=\"\\t\", converters={2: ast.literal_eval, 3: ast.literal_eval})\n",
    "df"
   ]
  },
  {
   "cell_type": "markdown",
   "id": "possible-picking",
   "metadata": {},
   "source": [
    "# Build Huggingface Dataset"
   ]
  },
  {
   "cell_type": "code",
   "execution_count": 4,
   "id": "young-cologne",
   "metadata": {},
   "outputs": [
    {
     "data": {
      "text/plain": [
       "Dataset({\n",
       "    features: ['tokens', 'labels'],\n",
       "    num_rows: 3000\n",
       "})"
      ]
     },
     "execution_count": 4,
     "metadata": {},
     "output_type": "execute_result"
    }
   ],
   "source": [
    "labels = [\"O\", \"B\"]\n",
    "dataset = Dataset.from_pandas(df[[\"tokens\", \"labels\"]], features=Features({\"tokens\": Sequence(Value(\"string\")), \"labels\": Sequence(ClassLabel(names=labels))}))\n",
    "dataset"
   ]
  },
  {
   "cell_type": "markdown",
   "id": "involved-rochester",
   "metadata": {},
   "source": [
    "# Apply Train/Test Split"
   ]
  },
  {
   "cell_type": "code",
   "execution_count": 5,
   "id": "perfect-wright",
   "metadata": {},
   "outputs": [],
   "source": [
    "label_names = ['O', 'B']\n",
    "\n",
    "id2label = {i: label for i, label in enumerate(label_names)}\n",
    "\n",
    "label2id = {label: i for i, label in enumerate(label_names)}"
   ]
  },
  {
   "cell_type": "code",
   "execution_count": 6,
   "id": "gorgeous-receptor",
   "metadata": {},
   "outputs": [
    {
     "data": {
      "text/plain": [
       "DatasetDict({\n",
       "    train: Dataset({\n",
       "        features: ['tokens', 'labels'],\n",
       "        num_rows: 2400\n",
       "    })\n",
       "    test: Dataset({\n",
       "        features: ['tokens', 'labels'],\n",
       "        num_rows: 600\n",
       "    })\n",
       "})"
      ]
     },
     "execution_count": 6,
     "metadata": {},
     "output_type": "execute_result"
    }
   ],
   "source": [
    "dataset = dataset.train_test_split(test_size=0.2, shuffle=True, seed=0)\n",
    "dataset"
   ]
  },
  {
   "cell_type": "markdown",
   "id": "closed-service",
   "metadata": {},
   "source": [
    "# Inspect and Store Train Dataset"
   ]
  },
  {
   "cell_type": "code",
   "execution_count": 7,
   "id": "spectacular-couple",
   "metadata": {
    "scrolled": true
   },
   "outputs": [
    {
     "data": {
      "text/html": [
       "<div>\n",
       "<style scoped>\n",
       "    .dataframe tbody tr th:only-of-type {\n",
       "        vertical-align: middle;\n",
       "    }\n",
       "\n",
       "    .dataframe tbody tr th {\n",
       "        vertical-align: top;\n",
       "    }\n",
       "\n",
       "    .dataframe thead th {\n",
       "        text-align: right;\n",
       "    }\n",
       "</style>\n",
       "<table border=\"1\" class=\"dataframe\">\n",
       "  <thead>\n",
       "    <tr style=\"text-align: right;\">\n",
       "      <th></th>\n",
       "      <th>tokens</th>\n",
       "      <th>labels</th>\n",
       "    </tr>\n",
       "  </thead>\n",
       "  <tbody>\n",
       "    <tr>\n",
       "      <th>0</th>\n",
       "      <td>[sulen, ouch, Glorîône, und, dem, stolzen, Fau...</td>\n",
       "      <td>[O, O, B, O, O, O, B, O, O, O, B, ...</td>\n",
       "    </tr>\n",
       "    <tr>\n",
       "      <th>1</th>\n",
       "      <td>[niender, funde, enkeinen, degen, sô, stæte,, ...</td>\n",
       "      <td>[O, O, O, O, O, O, O, O, O, O, O, O, O, O, B-P...</td>\n",
       "    </tr>\n",
       "    <tr>\n",
       "      <th>2</th>\n",
       "      <td>[wartmannes, mâl., nû, sage, mir,, helt,, al, ...</td>\n",
       "      <td>[O, O, O, O, O, O, O, O, O, O, O, O, O, O, O, ...</td>\n",
       "    </tr>\n",
       "    <tr>\n",
       "      <th>3</th>\n",
       "      <td>[uns, danne, daz, dehein, getwerc, enwære, noc...</td>\n",
       "      <td>[O, O, O, O, O, O, O, O, O, O, B, O, O, O,...</td>\n",
       "    </tr>\n",
       "    <tr>\n",
       "      <th>4</th>\n",
       "      <td>[elliu, chunne, hie, in, erde, joch, in, himel...</td>\n",
       "      <td>[O, O, O, O, O, O, O, O, O, O, O, O, O, O, O, ...</td>\n",
       "    </tr>\n",
       "    <tr>\n",
       "      <th>...</th>\n",
       "      <td>...</td>\n",
       "      <td>...</td>\n",
       "    </tr>\n",
       "    <tr>\n",
       "      <th>2395</th>\n",
       "      <td>[küneginne, schiet,, sô, daz, si, tâten, klage...</td>\n",
       "      <td>[O, O, O, O, O, O, O, O, O, O, B, O, O, O,...</td>\n",
       "    </tr>\n",
       "    <tr>\n",
       "      <th>2396</th>\n",
       "      <td>[wir, noch, hiute, werben, alsô, daz, vor, uns...</td>\n",
       "      <td>[O, O, O, O, O, O, O, O, O, B, O, O, O, O,...</td>\n",
       "    </tr>\n",
       "    <tr>\n",
       "      <th>2397</th>\n",
       "      <td>[Postefar, von, Laudundrehte,, und, den, herzo...</td>\n",
       "      <td>[B, O, B, O, O, O, B, O, B, O,...</td>\n",
       "    </tr>\n",
       "    <tr>\n",
       "      <th>2398</th>\n",
       "      <td>[zuo, geriten,, si, heten, Franzoyse, überstri...</td>\n",
       "      <td>[O, O, O, O, O, O, O, O, O, O, B, O, O, O,...</td>\n",
       "    </tr>\n",
       "    <tr>\n",
       "      <th>2399</th>\n",
       "      <td>[ich, gerne,&amp;quot;, sprach, der, wirt,, &amp;quot;...</td>\n",
       "      <td>[O, O, O, O, O, O, O, O, O, O, O, O, O, O, O, ...</td>\n",
       "    </tr>\n",
       "  </tbody>\n",
       "</table>\n",
       "<p>2400 rows × 2 columns</p>\n",
       "</div>"
      ],
      "text/plain": [
       "                                                 tokens  \\\n",
       "0     [sulen, ouch, Glorîône, und, dem, stolzen, Fau...   \n",
       "1     [niender, funde, enkeinen, degen, sô, stæte,, ...   \n",
       "2     [wartmannes, mâl., nû, sage, mir,, helt,, al, ...   \n",
       "3     [uns, danne, daz, dehein, getwerc, enwære, noc...   \n",
       "4     [elliu, chunne, hie, in, erde, joch, in, himel...   \n",
       "...                                                 ...   \n",
       "2395  [küneginne, schiet,, sô, daz, si, tâten, klage...   \n",
       "2396  [wir, noch, hiute, werben, alsô, daz, vor, uns...   \n",
       "2397  [Postefar, von, Laudundrehte,, und, den, herzo...   \n",
       "2398  [zuo, geriten,, si, heten, Franzoyse, überstri...   \n",
       "2399  [ich, gerne,&quot;, sprach, der, wirt,, &quot;...   \n",
       "\n",
       "                                                 labels  \n",
       "0     [O, O, B, O, O, O, B, O, O, O, B, ...  \n",
       "1     [O, O, O, O, O, O, O, O, O, O, O, O, O, O, B-P...  \n",
       "2     [O, O, O, O, O, O, O, O, O, O, O, O, O, O, O, ...  \n",
       "3     [O, O, O, O, O, O, O, O, O, O, B, O, O, O,...  \n",
       "4     [O, O, O, O, O, O, O, O, O, O, O, O, O, O, O, ...  \n",
       "...                                                 ...  \n",
       "2395  [O, O, O, O, O, O, O, O, O, O, B, O, O, O,...  \n",
       "2396  [O, O, O, O, O, O, O, O, O, B, O, O, O, O,...  \n",
       "2397  [B, O, B, O, O, O, B, O, B, O,...  \n",
       "2398  [O, O, O, O, O, O, O, O, O, O, B, O, O, O,...  \n",
       "2399  [O, O, O, O, O, O, O, O, O, O, O, O, O, O, O, ...  \n",
       "\n",
       "[2400 rows x 2 columns]"
      ]
     },
     "execution_count": 7,
     "metadata": {},
     "output_type": "execute_result"
    }
   ],
   "source": [
    "train_df = dataset[\"train\"].to_pandas()\n",
    "train_df[\"tokens\"] = train_df[\"tokens\"].str.join(\", \").str.split(\", \")\n",
    "train_df[\"labels\"] = train_df[\"labels\"].apply(lambda x: [id2label[i] for i in x]) # fix labels\n",
    "train_df"
   ]
  },
  {
   "cell_type": "code",
   "execution_count": 8,
   "id": "leading-heritage",
   "metadata": {},
   "outputs": [],
   "source": [
    "#train_df.to_csv(data_path + \"mwb-texts_NER_train.tsv\", sep=\"\\t\", index=False)"
   ]
  },
  {
   "cell_type": "code",
   "execution_count": 10,
   "id": "labeled-intermediate",
   "metadata": {},
   "outputs": [
    {
     "data": {
      "text/html": [
       "<div>\n",
       "<style scoped>\n",
       "    .dataframe tbody tr th:only-of-type {\n",
       "        vertical-align: middle;\n",
       "    }\n",
       "\n",
       "    .dataframe tbody tr th {\n",
       "        vertical-align: top;\n",
       "    }\n",
       "\n",
       "    .dataframe thead th {\n",
       "        text-align: right;\n",
       "    }\n",
       "</style>\n",
       "<table border=\"1\" class=\"dataframe\">\n",
       "  <thead>\n",
       "    <tr style=\"text-align: right;\">\n",
       "      <th></th>\n",
       "      <th>tokens</th>\n",
       "      <th>labels</th>\n",
       "      <th>source</th>\n",
       "      <th>n</th>\n",
       "    </tr>\n",
       "  </thead>\n",
       "  <tbody>\n",
       "    <tr>\n",
       "      <th>0</th>\n",
       "      <td>[sulen, ouch, Glorîône, und, dem, stolzen, Fau...</td>\n",
       "      <td>[O, O, B, O, O, O, B, O, O, O, B, ...</td>\n",
       "      <td>Wh</td>\n",
       "      <td>3885</td>\n",
       "    </tr>\n",
       "    <tr>\n",
       "      <th>1</th>\n",
       "      <td>[niender, funde, enkeinen, degen, sô, stæte,, ...</td>\n",
       "      <td>[O, O, O, O, O, O, O, O, O, O, O, O, O, O, B-P...</td>\n",
       "      <td>UvZLanz</td>\n",
       "      <td>11669</td>\n",
       "    </tr>\n",
       "    <tr>\n",
       "      <th>2</th>\n",
       "      <td>[wartmannes, mâl., nû, sage, mir,, helt,, al, ...</td>\n",
       "      <td>[O, O, O, O, O, O, O, O, O, O, O, O, O, O, O, ...</td>\n",
       "      <td>Wh</td>\n",
       "      <td>52531</td>\n",
       "    </tr>\n",
       "    <tr>\n",
       "      <th>3</th>\n",
       "      <td>[uns, danne, daz, dehein, getwerc, enwære, noc...</td>\n",
       "      <td>[O, O, O, O, O, O, O, O, O, O, B, O, O, O,...</td>\n",
       "      <td>Er</td>\n",
       "      <td>10377</td>\n",
       "    </tr>\n",
       "    <tr>\n",
       "      <th>4</th>\n",
       "      <td>[elliu, chunne, hie, in, erde, joch, in, himel...</td>\n",
       "      <td>[O, O, O, O, O, O, O, O, O, O, O, O, O, O, O, ...</td>\n",
       "      <td>VEzzo</td>\n",
       "      <td>1506</td>\n",
       "    </tr>\n",
       "    <tr>\n",
       "      <th>...</th>\n",
       "      <td>...</td>\n",
       "      <td>...</td>\n",
       "      <td>...</td>\n",
       "      <td>...</td>\n",
       "    </tr>\n",
       "    <tr>\n",
       "      <th>2395</th>\n",
       "      <td>[küneginne, schiet,, sô, daz, si, tâten, klage...</td>\n",
       "      <td>[O, O, O, O, O, O, O, O, O, O, B, O, O, O,...</td>\n",
       "      <td>Parz</td>\n",
       "      <td>126436</td>\n",
       "    </tr>\n",
       "    <tr>\n",
       "      <th>2396</th>\n",
       "      <td>[wir, noch, hiute, werben, alsô, daz, vor, uns...</td>\n",
       "      <td>[O, O, O, O, O, O, O, O, O, B, O, O, O, O,...</td>\n",
       "      <td>Wh</td>\n",
       "      <td>52956</td>\n",
       "    </tr>\n",
       "    <tr>\n",
       "      <th>2397</th>\n",
       "      <td>[Postefar, von, Laudundrehte,, und, den, herzo...</td>\n",
       "      <td>[B, O, B, O, O, O, B, O, B, O,...</td>\n",
       "      <td>Parz</td>\n",
       "      <td>121601</td>\n",
       "    </tr>\n",
       "    <tr>\n",
       "      <th>2398</th>\n",
       "      <td>[zuo, geriten,, si, heten, Franzoyse, überstri...</td>\n",
       "      <td>[O, O, O, O, O, O, O, O, O, O, B, O, O, O,...</td>\n",
       "      <td>Wh</td>\n",
       "      <td>67111</td>\n",
       "    </tr>\n",
       "    <tr>\n",
       "      <th>2399</th>\n",
       "      <td>[ich, gerne,&amp;quot;, sprach, der, wirt,, &amp;quot;...</td>\n",
       "      <td>[O, O, O, O, O, O, O, O, O, O, O, O, O, O, O, ...</td>\n",
       "      <td>Parz</td>\n",
       "      <td>23541</td>\n",
       "    </tr>\n",
       "  </tbody>\n",
       "</table>\n",
       "<p>2400 rows × 4 columns</p>\n",
       "</div>"
      ],
      "text/plain": [
       "                                                 tokens  \\\n",
       "0     [sulen, ouch, Glorîône, und, dem, stolzen, Fau...   \n",
       "1     [niender, funde, enkeinen, degen, sô, stæte,, ...   \n",
       "2     [wartmannes, mâl., nû, sage, mir,, helt,, al, ...   \n",
       "3     [uns, danne, daz, dehein, getwerc, enwære, noc...   \n",
       "4     [elliu, chunne, hie, in, erde, joch, in, himel...   \n",
       "...                                                 ...   \n",
       "2395  [küneginne, schiet,, sô, daz, si, tâten, klage...   \n",
       "2396  [wir, noch, hiute, werben, alsô, daz, vor, uns...   \n",
       "2397  [Postefar, von, Laudundrehte,, und, den, herzo...   \n",
       "2398  [zuo, geriten,, si, heten, Franzoyse, überstri...   \n",
       "2399  [ich, gerne,&quot;, sprach, der, wirt,, &quot;...   \n",
       "\n",
       "                                                 labels   source       n  \n",
       "0     [O, O, B, O, O, O, B, O, O, O, B, ...       Wh    3885  \n",
       "1     [O, O, O, O, O, O, O, O, O, O, O, O, O, O, B-P...  UvZLanz   11669  \n",
       "2     [O, O, O, O, O, O, O, O, O, O, O, O, O, O, O, ...       Wh   52531  \n",
       "3     [O, O, O, O, O, O, O, O, O, O, B, O, O, O,...       Er   10377  \n",
       "4     [O, O, O, O, O, O, O, O, O, O, O, O, O, O, O, ...    VEzzo    1506  \n",
       "...                                                 ...      ...     ...  \n",
       "2395  [O, O, O, O, O, O, O, O, O, O, B, O, O, O,...     Parz  126436  \n",
       "2396  [O, O, O, O, O, O, O, O, O, B, O, O, O, O,...       Wh   52956  \n",
       "2397  [B, O, B, O, O, O, B, O, B, O,...     Parz  121601  \n",
       "2398  [O, O, O, O, O, O, O, O, O, O, B, O, O, O,...       Wh   67111  \n",
       "2399  [O, O, O, O, O, O, O, O, O, O, O, O, O, O, O, ...     Parz   23541  \n",
       "\n",
       "[2400 rows x 4 columns]"
      ]
     },
     "execution_count": 10,
     "metadata": {},
     "output_type": "execute_result"
    }
   ],
   "source": [
    "df_concatenated = df[[\"source\", \"n\", \"tokens\"]].copy()\n",
    "df_concatenated[\"tokens\"] = df_concatenated[\"tokens\"].str.join(\" \")\n",
    "\n",
    "train_df_concatenated = train_df.copy()\n",
    "train_df_concatenated[\"tokens\"] = train_df_concatenated[\"tokens\"].str.join(\" \")\n",
    "train_df_concatenated = train_df[[\"tokens\"]].join(train_df_concatenated.set_index(\"tokens\").join(df_concatenated.set_index(\"tokens\")).reset_index(drop=True))\n",
    "train_df_concatenated"
   ]
  },
  {
   "cell_type": "code",
   "execution_count": 11,
   "id": "limiting-publicity",
   "metadata": {},
   "outputs": [
    {
     "data": {
      "text/plain": [
       "O        46736\n",
       "B     3582\n",
       "Name: labels, dtype: int64"
      ]
     },
     "execution_count": 11,
     "metadata": {},
     "output_type": "execute_result"
    }
   ],
   "source": [
    "train_df[\"labels\"].explode().value_counts()"
   ]
  },
  {
   "cell_type": "code",
   "execution_count": 12,
   "id": "critical-ancient",
   "metadata": {},
   "outputs": [
    {
     "data": {
      "text/plain": [
       "Parz        1032\n",
       "Wh           625\n",
       "UvZLanz      267\n",
       "RvEBarl      141\n",
       "Er           107\n",
       "Wig          104\n",
       "VAlex         90\n",
       "Vateruns      25\n",
       "VEzzo          4\n",
       "SuTheol        2\n",
       "Wahrh          2\n",
       "SüklZw         1\n",
       "Name: source, dtype: int64"
      ]
     },
     "execution_count": 12,
     "metadata": {},
     "output_type": "execute_result"
    }
   ],
   "source": [
    "train_df_concatenated[\"source\"].value_counts()"
   ]
  },
  {
   "cell_type": "code",
   "execution_count": 13,
   "id": "fitted-mills",
   "metadata": {},
   "outputs": [
    {
     "data": {
      "text/plain": [
       "Parz        724\n",
       "Wh          473\n",
       "UvZLanz     174\n",
       "RvEBarl     117\n",
       "Wig          97\n",
       "Er           83\n",
       "VAlex        68\n",
       "Vateruns      5\n",
       "SuTheol       2\n",
       "SüklZw        1\n",
       "VEzzo         1\n",
       "Wahrh         1\n",
       "Name: source, dtype: int64"
      ]
     },
     "execution_count": 13,
     "metadata": {},
     "output_type": "execute_result"
    }
   ],
   "source": [
    "train_df_concatenated.loc[train_df[\"labels\"].str.join(\" \").str.contains(\"B\")][\"source\"].value_counts()"
   ]
  },
  {
   "cell_type": "markdown",
   "id": "medium-person",
   "metadata": {},
   "source": [
    "# Inspect and Store Test Dataset"
   ]
  },
  {
   "cell_type": "code",
   "execution_count": 14,
   "id": "sitting-prototype",
   "metadata": {},
   "outputs": [
    {
     "data": {
      "text/html": [
       "<div>\n",
       "<style scoped>\n",
       "    .dataframe tbody tr th:only-of-type {\n",
       "        vertical-align: middle;\n",
       "    }\n",
       "\n",
       "    .dataframe tbody tr th {\n",
       "        vertical-align: top;\n",
       "    }\n",
       "\n",
       "    .dataframe thead th {\n",
       "        text-align: right;\n",
       "    }\n",
       "</style>\n",
       "<table border=\"1\" class=\"dataframe\">\n",
       "  <thead>\n",
       "    <tr style=\"text-align: right;\">\n",
       "      <th></th>\n",
       "      <th>tokens</th>\n",
       "      <th>labels</th>\n",
       "    </tr>\n",
       "  </thead>\n",
       "  <tbody>\n",
       "    <tr>\n",
       "      <th>0</th>\n",
       "      <td>[sîn, ungevüegez, rîs, in, der, hende, als, ei...</td>\n",
       "      <td>[O, O, O, O, O, O, O, O, O, O, O, O, O, O, O, ...</td>\n",
       "    </tr>\n",
       "    <tr>\n",
       "      <th>1</th>\n",
       "      <td>[hiez, daz, aller, valsch, an, im, verswant,, ...</td>\n",
       "      <td>[O, O, O, O, O, O, O, O, O, O, B, O, O, O,...</td>\n",
       "    </tr>\n",
       "    <tr>\n",
       "      <th>2</th>\n",
       "      <td>[het, aldâ, genomn, der, stolze, küene, Wâleis...</td>\n",
       "      <td>[O, O, O, O, O, O, B, B, O, B, O, ...</td>\n",
       "    </tr>\n",
       "    <tr>\n",
       "      <th>3</th>\n",
       "      <td>[erslagn., nu, vergebt, im, sîne, schulde, dur...</td>\n",
       "      <td>[O, O, O, O, O, O, O, O, O, O, O, O, O, O, O, ...</td>\n",
       "    </tr>\n",
       "    <tr>\n",
       "      <th>4</th>\n",
       "      <td>[umbe, begunder, gâhen,, des, küneges, vanen, ...</td>\n",
       "      <td>[O, O, O, O, O, O, O, O, O, O, B, O, O, O,...</td>\n",
       "    </tr>\n",
       "    <tr>\n",
       "      <th>...</th>\n",
       "      <td>...</td>\n",
       "      <td>...</td>\n",
       "    </tr>\n",
       "    <tr>\n",
       "      <th>595</th>\n",
       "      <td>[guoten, ritter, zimet,, swenn, er, den, schil...</td>\n",
       "      <td>[O, O, O, O, O, O, O, O, O, O, O, O, O, O, O, ...</td>\n",
       "    </tr>\n",
       "    <tr>\n",
       "      <th>596</th>\n",
       "      <td>[der, brust, bewart,, so, ist, werder, prîs, d...</td>\n",
       "      <td>[O, O, O, O, O, O, O, O, O, O, O, O, O, O, O, ...</td>\n",
       "    </tr>\n",
       "    <tr>\n",
       "      <th>597</th>\n",
       "      <td>[ein, herre, genant, alsus,, der, künec, Iels,...</td>\n",
       "      <td>[O, O, O, O, O, O, B, O, B, O, B, ...</td>\n",
       "    </tr>\n",
       "    <tr>\n",
       "      <th>598</th>\n",
       "      <td>[vor, im, her, gesant,, sît, ichz, lebende, im...</td>\n",
       "      <td>[O, O, O, O, O, O, O, O, O, O, O, O, O, O, O, ...</td>\n",
       "    </tr>\n",
       "    <tr>\n",
       "      <th>599</th>\n",
       "      <td>[lêret, ir, mûze, alsus, volrecken,, nâch, den...</td>\n",
       "      <td>[O, O, O, O, O, O, O, O, O, O, O, O, O, O, O, ...</td>\n",
       "    </tr>\n",
       "  </tbody>\n",
       "</table>\n",
       "<p>600 rows × 2 columns</p>\n",
       "</div>"
      ],
      "text/plain": [
       "                                                tokens  \\\n",
       "0    [sîn, ungevüegez, rîs, in, der, hende, als, ei...   \n",
       "1    [hiez, daz, aller, valsch, an, im, verswant,, ...   \n",
       "2    [het, aldâ, genomn, der, stolze, küene, Wâleis...   \n",
       "3    [erslagn., nu, vergebt, im, sîne, schulde, dur...   \n",
       "4    [umbe, begunder, gâhen,, des, küneges, vanen, ...   \n",
       "..                                                 ...   \n",
       "595  [guoten, ritter, zimet,, swenn, er, den, schil...   \n",
       "596  [der, brust, bewart,, so, ist, werder, prîs, d...   \n",
       "597  [ein, herre, genant, alsus,, der, künec, Iels,...   \n",
       "598  [vor, im, her, gesant,, sît, ichz, lebende, im...   \n",
       "599  [lêret, ir, mûze, alsus, volrecken,, nâch, den...   \n",
       "\n",
       "                                                labels  \n",
       "0    [O, O, O, O, O, O, O, O, O, O, O, O, O, O, O, ...  \n",
       "1    [O, O, O, O, O, O, O, O, O, O, B, O, O, O,...  \n",
       "2    [O, O, O, O, O, O, B, B, O, B, O, ...  \n",
       "3    [O, O, O, O, O, O, O, O, O, O, O, O, O, O, O, ...  \n",
       "4    [O, O, O, O, O, O, O, O, O, O, B, O, O, O,...  \n",
       "..                                                 ...  \n",
       "595  [O, O, O, O, O, O, O, O, O, O, O, O, O, O, O, ...  \n",
       "596  [O, O, O, O, O, O, O, O, O, O, O, O, O, O, O, ...  \n",
       "597  [O, O, O, O, O, O, B, O, B, O, B, ...  \n",
       "598  [O, O, O, O, O, O, O, O, O, O, O, O, O, O, O, ...  \n",
       "599  [O, O, O, O, O, O, O, O, O, O, O, O, O, O, O, ...  \n",
       "\n",
       "[600 rows x 2 columns]"
      ]
     },
     "execution_count": 14,
     "metadata": {},
     "output_type": "execute_result"
    }
   ],
   "source": [
    "test_df = dataset[\"test\"].to_pandas()\n",
    "test_df[\"tokens\"] = test_df[\"tokens\"].str.join(\", \").str.split(\", \")\n",
    "test_df[\"labels\"] = test_df[\"labels\"].apply(lambda x: [id2label[i] for i in x]) # fix labels\n",
    "test_df"
   ]
  },
  {
   "cell_type": "code",
   "execution_count": 15,
   "id": "ecological-parent",
   "metadata": {},
   "outputs": [],
   "source": [
    "#test_df.to_csv(data_path + \"mwb-texts_NER_test.tsv\", sep=\"\\t\", index=False)"
   ]
  },
  {
   "cell_type": "code",
   "execution_count": 16,
   "id": "greenhouse-holder",
   "metadata": {},
   "outputs": [
    {
     "data": {
      "text/html": [
       "<div>\n",
       "<style scoped>\n",
       "    .dataframe tbody tr th:only-of-type {\n",
       "        vertical-align: middle;\n",
       "    }\n",
       "\n",
       "    .dataframe tbody tr th {\n",
       "        vertical-align: top;\n",
       "    }\n",
       "\n",
       "    .dataframe thead th {\n",
       "        text-align: right;\n",
       "    }\n",
       "</style>\n",
       "<table border=\"1\" class=\"dataframe\">\n",
       "  <thead>\n",
       "    <tr style=\"text-align: right;\">\n",
       "      <th></th>\n",
       "      <th>tokens</th>\n",
       "      <th>labels</th>\n",
       "      <th>source</th>\n",
       "      <th>n</th>\n",
       "    </tr>\n",
       "  </thead>\n",
       "  <tbody>\n",
       "    <tr>\n",
       "      <th>0</th>\n",
       "      <td>[sîn, ungevüegez, rîs, in, der, hende, als, ei...</td>\n",
       "      <td>[O, O, O, O, O, O, O, O, O, O, O, O, O, O, O, ...</td>\n",
       "      <td>Wh</td>\n",
       "      <td>41874</td>\n",
       "    </tr>\n",
       "    <tr>\n",
       "      <th>1</th>\n",
       "      <td>[hiez, daz, aller, valsch, an, im, verswant,, ...</td>\n",
       "      <td>[O, O, O, O, O, O, O, O, O, O, B, O, O, O,...</td>\n",
       "      <td>Parz</td>\n",
       "      <td>79057</td>\n",
       "    </tr>\n",
       "    <tr>\n",
       "      <th>2</th>\n",
       "      <td>[het, aldâ, genomn, der, stolze, küene, Wâleis...</td>\n",
       "      <td>[O, O, O, O, O, O, B, B, O, B, O, ...</td>\n",
       "      <td>Parz</td>\n",
       "      <td>111510</td>\n",
       "    </tr>\n",
       "    <tr>\n",
       "      <th>3</th>\n",
       "      <td>[erslagn., nu, vergebt, im, sîne, schulde, dur...</td>\n",
       "      <td>[O, O, O, O, O, O, O, O, O, O, O, O, O, O, O, ...</td>\n",
       "      <td>Parz</td>\n",
       "      <td>67344</td>\n",
       "    </tr>\n",
       "    <tr>\n",
       "      <th>4</th>\n",
       "      <td>[umbe, begunder, gâhen,, des, küneges, vanen, ...</td>\n",
       "      <td>[O, O, O, O, O, O, O, O, O, O, B, O, O, O,...</td>\n",
       "      <td>Parz</td>\n",
       "      <td>32712</td>\n",
       "    </tr>\n",
       "    <tr>\n",
       "      <th>...</th>\n",
       "      <td>...</td>\n",
       "      <td>...</td>\n",
       "      <td>...</td>\n",
       "      <td>...</td>\n",
       "    </tr>\n",
       "    <tr>\n",
       "      <th>595</th>\n",
       "      <td>[guoten, ritter, zimet,, swenn, er, den, schil...</td>\n",
       "      <td>[O, O, O, O, O, O, O, O, O, O, O, O, O, O, O, ...</td>\n",
       "      <td>UvZLanz</td>\n",
       "      <td>10325</td>\n",
       "    </tr>\n",
       "    <tr>\n",
       "      <th>596</th>\n",
       "      <td>[der, brust, bewart,, so, ist, werder, prîs, d...</td>\n",
       "      <td>[O, O, O, O, O, O, O, O, O, O, O, O, O, O, O, ...</td>\n",
       "      <td>Parz</td>\n",
       "      <td>443</td>\n",
       "    </tr>\n",
       "    <tr>\n",
       "      <th>597</th>\n",
       "      <td>[ein, herre, genant, alsus,, der, künec, Iels,...</td>\n",
       "      <td>[O, O, O, O, O, O, B, O, B, O, B, ...</td>\n",
       "      <td>Er</td>\n",
       "      <td>7671</td>\n",
       "    </tr>\n",
       "    <tr>\n",
       "      <th>598</th>\n",
       "      <td>[vor, im, her, gesant,, sît, ichz, lebende, im...</td>\n",
       "      <td>[O, O, O, O, O, O, O, O, O, O, O, O, O, O, O, ...</td>\n",
       "      <td>Parz</td>\n",
       "      <td>17370</td>\n",
       "    </tr>\n",
       "    <tr>\n",
       "      <th>599</th>\n",
       "      <td>[lêret, ir, mûze, alsus, volrecken,, nâch, den...</td>\n",
       "      <td>[O, O, O, O, O, O, O, O, O, O, O, O, O, O, O, ...</td>\n",
       "      <td>Wh</td>\n",
       "      <td>48438</td>\n",
       "    </tr>\n",
       "  </tbody>\n",
       "</table>\n",
       "<p>600 rows × 4 columns</p>\n",
       "</div>"
      ],
      "text/plain": [
       "                                                tokens  \\\n",
       "0    [sîn, ungevüegez, rîs, in, der, hende, als, ei...   \n",
       "1    [hiez, daz, aller, valsch, an, im, verswant,, ...   \n",
       "2    [het, aldâ, genomn, der, stolze, küene, Wâleis...   \n",
       "3    [erslagn., nu, vergebt, im, sîne, schulde, dur...   \n",
       "4    [umbe, begunder, gâhen,, des, küneges, vanen, ...   \n",
       "..                                                 ...   \n",
       "595  [guoten, ritter, zimet,, swenn, er, den, schil...   \n",
       "596  [der, brust, bewart,, so, ist, werder, prîs, d...   \n",
       "597  [ein, herre, genant, alsus,, der, künec, Iels,...   \n",
       "598  [vor, im, her, gesant,, sît, ichz, lebende, im...   \n",
       "599  [lêret, ir, mûze, alsus, volrecken,, nâch, den...   \n",
       "\n",
       "                                                labels   source       n  \n",
       "0    [O, O, O, O, O, O, O, O, O, O, O, O, O, O, O, ...       Wh   41874  \n",
       "1    [O, O, O, O, O, O, O, O, O, O, B, O, O, O,...     Parz   79057  \n",
       "2    [O, O, O, O, O, O, B, B, O, B, O, ...     Parz  111510  \n",
       "3    [O, O, O, O, O, O, O, O, O, O, O, O, O, O, O, ...     Parz   67344  \n",
       "4    [O, O, O, O, O, O, O, O, O, O, B, O, O, O,...     Parz   32712  \n",
       "..                                                 ...      ...     ...  \n",
       "595  [O, O, O, O, O, O, O, O, O, O, O, O, O, O, O, ...  UvZLanz   10325  \n",
       "596  [O, O, O, O, O, O, O, O, O, O, O, O, O, O, O, ...     Parz     443  \n",
       "597  [O, O, O, O, O, O, B, O, B, O, B, ...       Er    7671  \n",
       "598  [O, O, O, O, O, O, O, O, O, O, O, O, O, O, O, ...     Parz   17370  \n",
       "599  [O, O, O, O, O, O, O, O, O, O, O, O, O, O, O, ...       Wh   48438  \n",
       "\n",
       "[600 rows x 4 columns]"
      ]
     },
     "execution_count": 16,
     "metadata": {},
     "output_type": "execute_result"
    }
   ],
   "source": [
    "test_df_concatenated = test_df.copy()\n",
    "test_df_concatenated[\"tokens\"] = test_df_concatenated[\"tokens\"].str.join(\" \")\n",
    "test_df_concatenated = test_df[[\"tokens\"]].join(test_df_concatenated.set_index(\"tokens\").join(df_concatenated.set_index(\"tokens\")).reset_index(drop=True))\n",
    "test_df_concatenated"
   ]
  },
  {
   "cell_type": "code",
   "execution_count": 17,
   "id": "distant-princess",
   "metadata": {},
   "outputs": [
    {
     "data": {
      "text/plain": [
       "O        11713\n",
       "B      885\n",
       "Name: labels, dtype: int64"
      ]
     },
     "execution_count": 17,
     "metadata": {},
     "output_type": "execute_result"
    }
   ],
   "source": [
    "test_df[\"labels\"].explode().value_counts()"
   ]
  },
  {
   "cell_type": "code",
   "execution_count": 18,
   "id": "modular-motor",
   "metadata": {},
   "outputs": [
    {
     "data": {
      "text/plain": [
       "Parz        263\n",
       "Wh          150\n",
       "UvZLanz      68\n",
       "RvEBarl      42\n",
       "VAlex        29\n",
       "Wig          20\n",
       "Er           18\n",
       "Vateruns      9\n",
       "VEzzo         1\n",
       "Name: source, dtype: int64"
      ]
     },
     "execution_count": 18,
     "metadata": {},
     "output_type": "execute_result"
    }
   ],
   "source": [
    "test_df_concatenated[\"source\"].value_counts()"
   ]
  },
  {
   "cell_type": "code",
   "execution_count": 19,
   "id": "responsible-registrar",
   "metadata": {},
   "outputs": [
    {
     "data": {
      "text/plain": [
       "Parz        185\n",
       "Wh          117\n",
       "UvZLanz      41\n",
       "RvEBarl      34\n",
       "VAlex        23\n",
       "Wig          17\n",
       "Er           16\n",
       "Vateruns      4\n",
       "VEzzo         1\n",
       "Name: source, dtype: int64"
      ]
     },
     "execution_count": 19,
     "metadata": {},
     "output_type": "execute_result"
    }
   ],
   "source": [
    "test_df_concatenated.loc[test_df[\"labels\"].str.join(\" \").str.contains(\"B\")][\"source\"].value_counts()"
   ]
  }
 ],
 "metadata": {
  "kernelspec": {
   "display_name": "Python 3",
   "language": "python",
   "name": "python3"
  },
  "language_info": {
   "codemirror_mode": {
    "name": "ipython",
    "version": 3
   },
   "file_extension": ".py",
   "mimetype": "text/x-python",
   "name": "python",
   "nbconvert_exporter": "python",
   "pygments_lexer": "ipython3",
   "version": "3.8.10"
  }
 },
 "nbformat": 4,
 "nbformat_minor": 5
}
